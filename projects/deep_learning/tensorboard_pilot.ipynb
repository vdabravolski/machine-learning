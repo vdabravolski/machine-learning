{
 "cells": [
  {
   "cell_type": "code",
   "execution_count": 1,
   "metadata": {
    "collapsed": false
   },
   "outputs": [
    {
     "name": "stdout",
     "output_type": "stream",
     "text": [
      "Training set (200000, 28, 28) (200000,)\n",
      "Validation set (10000, 28, 28) (10000,)\n",
      "Test set (10000, 28, 28) (10000,)\n"
     ]
    }
   ],
   "source": [
    "# These are all the modules we'll be using later. Make sure you can import them\n",
    "# before proceeding further.\n",
    "from __future__ import print_function\n",
    "import numpy as np\n",
    "import tensorflow as tf\n",
    "from six.moves import cPickle as pickle\n",
    "from six.moves import range\n",
    "\n",
    "\n",
    "pickle_file = 'notMNIST.pickle'\n",
    "\n",
    "with open(pickle_file, 'rb') as f:\n",
    "  save = pickle.load(f)\n",
    "  train_dataset = save['train_dataset']\n",
    "  train_labels = save['train_labels']\n",
    "  valid_dataset = save['valid_dataset']\n",
    "  valid_labels = save['valid_labels']\n",
    "  test_dataset = save['test_dataset']\n",
    "  test_labels = save['test_labels']\n",
    "  del save  # hint to help gc free up memory\n",
    "  print('Training set', train_dataset.shape, train_labels.shape)\n",
    "  print('Validation set', valid_dataset.shape, valid_labels.shape)\n",
    "  print('Test set', test_dataset.shape, test_labels.shape)"
   ]
  },
  {
   "cell_type": "code",
   "execution_count": 2,
   "metadata": {
    "collapsed": false
   },
   "outputs": [
    {
     "name": "stdout",
     "output_type": "stream",
     "text": [
      "Training set (200000, 28, 28, 1) (200000, 10)\n",
      "Validation set (10000, 28, 28, 1) (10000, 10)\n",
      "Test set (10000, 28, 28, 1) (10000, 10)\n"
     ]
    }
   ],
   "source": [
    "image_size = 28\n",
    "num_labels = 10\n",
    "num_channels = 1 # grayscale\n",
    "\n",
    "import numpy as np\n",
    "\n",
    "def reformat(dataset, labels):\n",
    "  dataset = dataset.reshape(\n",
    "    (-1, image_size, image_size, num_channels)).astype(np.float32)\n",
    "  labels = (np.arange(num_labels) == labels[:,None]).astype(np.float32)\n",
    "  return dataset, labels\n",
    "train_dataset, train_labels = reformat(train_dataset, train_labels)\n",
    "valid_dataset, valid_labels = reformat(valid_dataset, valid_labels)\n",
    "test_dataset, test_labels = reformat(test_dataset, test_labels)\n",
    "print('Training set', train_dataset.shape, train_labels.shape)\n",
    "print('Validation set', valid_dataset.shape, valid_labels.shape)\n",
    "print('Test set', test_dataset.shape, test_labels.shape)\n",
    "\n",
    "def accuracy(predictions, labels):\n",
    "  return (100.0 * np.sum(np.argmax(predictions, 1) == np.argmax(labels, 1))\n",
    "          / predictions.shape[0])"
   ]
  },
  {
   "cell_type": "code",
   "execution_count": 3,
   "metadata": {
    "collapsed": true
   },
   "outputs": [],
   "source": [
    "# Utils for Tensorboard\n",
    "def variable_summaries(var):\n",
    "  \"\"\"Attach a lot of summaries to a Tensor (for TensorBoard visualization).\"\"\"\n",
    "  with tf.name_scope('summaries'):\n",
    "        mean = tf.reduce_mean(var)\n",
    "        tf.scalar_summary('mean', mean)\n",
    "        with tf.name_scope('stddev'):\n",
    "            stddev = tf.sqrt(tf.reduce_mean(tf.square(var - mean)))\n",
    "        tf.scalar_summary('stddev', stddev)\n",
    "        tf.scalar_summary('max', tf.reduce_max(var))\n",
    "        tf.scalar_summary('min', tf.reduce_min(var))\n",
    "#        tf.summary.histogram('histogram', var)\n",
    "\n"
   ]
  },
  {
   "cell_type": "code",
   "execution_count": 43,
   "metadata": {
    "collapsed": false
   },
   "outputs": [
    {
     "name": "stdout",
     "output_type": "stream",
     "text": [
      "Who would enter a prime number of filters\n",
      "grid: 3 = (1, 3)\n",
      "Who would enter a prime number of filters\n",
      "grid: 3 = (1, 3)\n"
     ]
    }
   ],
   "source": [
    "batch_size = 64\n",
    "patch_size = 5\n",
    "depth = 3\n",
    "num_hidden = 64\n",
    "learning_rate=0.05\n",
    "\n",
    "conv_stride=1\n",
    "maxpool_ksize=2\n",
    "maxpool_stride=2\n",
    "maxpool_padding='VALID'\n",
    "\n",
    "\n",
    "\n",
    "graph = tf.Graph()\n",
    "\n",
    "with graph.as_default():\n",
    "    \n",
    "    # learning rate\n",
    "    learning_rate=0.1\n",
    "    decay_rate=0.9\n",
    "    decay_steps=1000\n",
    "    global_step = tf.Variable(0)  # count the number of steps taken.\n",
    "    decayed_learning_rate = tf.train.exponential_decay(learning_rate=learning_rate, global_step=global_step, \n",
    "                                                   decay_steps=decay_steps, decay_rate=decay_rate, staircase=True )\n",
    "\n",
    "\n",
    "    # Input data.\n",
    "    tf_train_dataset = tf.placeholder(tf.float32, shape=(batch_size, image_size, image_size, num_channels),name=\"train_data\")\n",
    "    tf_train_labels = tf.placeholder(tf.float32, shape=(batch_size, num_labels),name=\"train_labels\")\n",
    "    tf_valid_dataset = tf.constant(valid_dataset, name=\"valid_data\")\n",
    "    tf_test_dataset = tf.constant(test_dataset,name=\"test_data\")\n",
    "  \n",
    "    # Variables.\n",
    "    layer1_weights = tf.Variable(tf.truncated_normal([patch_size, patch_size, num_channels, depth], stddev=0.1),name=\"layer1_weight\")\n",
    "    layer1_biases = tf.Variable(tf.zeros([depth]))\n",
    "    layer2_weights = tf.Variable(tf.truncated_normal([patch_size, patch_size, depth, depth], stddev=0.1))\n",
    "    layer2_biases = tf.Variable(tf.constant(1.0, shape=[depth]))\n",
    "    layer3_weights = tf.Variable(tf.truncated_normal([image_size // 4 * image_size // 4 * depth, num_hidden], stddev=0.1))\n",
    "    layer3_biases = tf.Variable(tf.constant(1.0, shape=[num_hidden]))\n",
    "    layer4_weights = tf.Variable(tf.truncated_normal([num_hidden, num_labels], stddev=0.1))\n",
    "    layer4_biases = tf.Variable(tf.constant(1.0, shape=[num_labels]))\n",
    "  \n",
    "    # Model.\n",
    "    def model_2(data,train=True):\n",
    "        #print(\"initial data shape:%s\"%data.get_shape().as_list())\n",
    "        \n",
    "        with tf.name_scope(\"hidden_1\"):\n",
    "            conv = tf.nn.conv2d(data, layer1_weights, [1, conv_stride, conv_stride, 1], padding='SAME')\n",
    "            hidden=tf.nn.relu(conv + layer1_biases)\n",
    "            if train:\n",
    "                variable_summaries(layer1_weights,\"layer1_weights\")\n",
    "                variable_summaries(layer1_biases,\"layer1_biases\")\n",
    "                \n",
    "                grid = put_kernels_on_grid (layer1_weights)\n",
    "                tf.summary.image('layer1_weights', grid)\n",
    "            \n",
    "            \n",
    "        \n",
    "        with tf.name_scope(\"maxpool_1\"):\n",
    "            maxpool=tf.nn.max_pool(hidden,ksize=[1, maxpool_ksize, maxpool_ksize, 1],\n",
    "                                   strides=[1, maxpool_stride, maxpool_stride, 1], padding=maxpool_padding)\n",
    "        \n",
    "        with tf.name_scope(\"hidden_2\"):\n",
    "            #print(\"shape after first max pool:%s\"%maxpool.get_shape().as_list())\n",
    "            conv = tf.nn.conv2d(maxpool, layer2_weights, [1, conv_stride, conv_stride, 1], padding='SAME')\n",
    "            hidden=tf.nn.relu(conv + layer2_biases)\n",
    "            #hidden = tf.Variable(tf.nn.relu(conv + layer2_biases),name=\"hidden_2\")\n",
    "        #print(\"shape after second conv:%s\"%hidden.get_shape().as_list())\n",
    "        maxpool=tf.nn.max_pool(hidden,ksize=[1, maxpool_ksize, maxpool_ksize, 1], \n",
    "                               strides=[1, maxpool_stride, maxpool_stride, 1], padding=maxpool_padding)\n",
    "        #print(\"shape after second max pool:%s\"%maxpool.get_shape().as_list())\n",
    "        shape = maxpool.get_shape().as_list()\n",
    "        #print(\"shape before flattening:%s\"%shape)\n",
    "        #print(\"shape of weights on layer 3 (outdated):%s\"%layer3_weights.get_shape().as_list())\n",
    "        reshape = tf.reshape(maxpool, [shape[0], shape[1] * shape[2] * shape[3]])\n",
    "        #print(\"current shape after pooling and flattening:%s\"% reshape.get_shape().as_list())\n",
    "        hidden = tf.nn.relu(tf.matmul(reshape, layer3_weights) + layer3_biases)\n",
    "        return tf.matmul(hidden, layer4_weights) + layer4_biases\n",
    "  \n",
    "    # Training computation.\n",
    "    logits = model_2(tf_train_dataset)\n",
    "    \n",
    "    with tf.name_scope('total'):\n",
    "        loss = tf.reduce_mean(tf.nn.softmax_cross_entropy_with_logits(logits, tf_train_labels))\n",
    "    \n",
    "    tf.summary.scalar('loss',loss)\n",
    "    \n",
    "    # Optimizer.\n",
    "    optimizer = tf.train.GradientDescentOptimizer(learning_rate=decayed_learning_rate).minimize(loss,global_step=global_step)\n",
    "  \n",
    "    \n",
    "    # Predictions for the training, validation, and test data.\n",
    "    train_prediction = tf.nn.softmax(logits)\n",
    "    \n",
    "    correct_train_predictions=tf.equal(tf.argmax(train_prediction, 1), tf.argmax(tf_train_labels, 1))\n",
    "    with tf.name_scope('accuracy_train'):\n",
    "        train_accuracy = tf.reduce_mean(tf.cast(correct_train_predictions, tf.float32))\n",
    "\n",
    "    valid_prediction = tf.nn.softmax(model_2(tf_valid_dataset,train=False))\n",
    "    correct_valid_predictions=tf.equal(tf.argmax(valid_prediction, 1), tf.argmax(valid_labels, 1))\n",
    "    with tf.name_scope('accuracy_valid'):\n",
    "        valid_accuracy=tf.reduce_mean(tf.cast(correct_valid_predictions, tf.float32))\n",
    "            \n",
    "    tf.summary.scalar('accuracy_train',train_accuracy)\n",
    "    tf.summary.scalar('accuracy_valid',valid_accuracy)\n",
    "\n",
    "    test_prediction = tf.nn.softmax(model_2(tf_test_dataset))\n",
    "\n",
    "    merged = tf.summary.merge_all()\n",
    "    init_op = tf.global_variables_initializer()"
   ]
  },
  {
   "cell_type": "code",
   "execution_count": 44,
   "metadata": {
    "collapsed": false
   },
   "outputs": [
    {
     "name": "stdout",
     "output_type": "stream",
     "text": [
      "Initialized\n",
      "Minibatch loss at step 0: 2.689489\n",
      "Minibatch loss at step 10: 2.113735\n",
      "Minibatch loss at step 20: 1.753071\n",
      "Minibatch loss at step 30: 1.485521\n",
      "Minibatch loss at step 40: 1.084816\n",
      "Minibatch loss at step 50: 1.432543\n"
     ]
    }
   ],
   "source": [
    "num_steps = 51\n",
    "\n",
    "run_id=\"test44\"\n",
    "logdir='/Users/dabravolski/github/machine-learning/projects/deep_learning/logs'\n",
    "\n",
    "with tf.Session(graph=graph) as session:\n",
    "    session.run(init_op)\n",
    "    train_writer = tf.summary.FileWriter(logdir_util(logdir,run_id),session.graph)\n",
    "\n",
    "    print('Initialized')\n",
    "    for step in range(num_steps):\n",
    "        offset = (step * batch_size) % (train_labels.shape[0] - batch_size)\n",
    "        batch_data = train_dataset[offset:(offset + batch_size), :, :, :]\n",
    "        batch_labels = train_labels[offset:(offset + batch_size), :]\n",
    "        feed_dict = {tf_train_dataset : batch_data, tf_train_labels : batch_labels}\n",
    "        summary,_,l, predictions = session.run([merged,optimizer, loss, valid_prediction], feed_dict=feed_dict)\n",
    "        train_writer.add_summary(summary, step)\n",
    "        \n",
    "        if (step % 10 == 0):\n",
    "            #collect accuracies for every other step\n",
    "            #valid_accuracy=accuracy(valid_prediction.eval(), valid_labels)\n",
    "            #valid_accuracy=tf.summary.scalar('valid_accuracy',valid_accuracy)\n",
    "            #train_writer.add_summary(valid_accuracy, step)\n",
    "            print('Minibatch loss at step %d: %f' % (step, l))\n",
    "            #print('Minibatch accuracy: %.1f%%' % train_accuracy)\n",
    "            #print('Validation accuracy: %.1f%%' % valid_accuracy)\n",
    "    #print('Test accuracy: %.1f%%' % accuracy(test_prediction.eval(), test_labels))\n",
    "    train_writer.close()"
   ]
  },
  {
   "cell_type": "code",
   "execution_count": 7,
   "metadata": {
    "collapsed": true
   },
   "outputs": [],
   "source": [
    "import os\n",
    "def logdir_util(parent_dir, run_id):\n",
    "    new_dir=parent_dir+\"/\"+run_id\n",
    "    if not os.path.exists(new_dir):\n",
    "        os.makedirs(new_dir)\n",
    "        return new_dir\n",
    "    else:\n",
    "        for dirpath, dirnames, files in os.walk(new_dir):\n",
    "            if files:\n",
    "                raise Exception(\"Non unique run id. Please make it unique.\")\n",
    "            if not files:\n",
    "                return new_dir\n"
   ]
  },
  {
   "cell_type": "code",
   "execution_count": 29,
   "metadata": {
    "collapsed": false
   },
   "outputs": [],
   "source": [
    "def variable_summaries(var,subscope,scope=\"summaries\"):\n",
    "  \"\"\"Attach a lot of summaries to a Tensor (for TensorBoard visualization).\"\"\"\n",
    "  with tf.name_scope(scope):\n",
    "        with tf.name_scope(subscope):\n",
    "            mean = tf.reduce_mean(var)\n",
    "            tf.summary.scalar('mean', mean)\n",
    "            with tf.name_scope('stddev'):\n",
    "              stddev = tf.sqrt(tf.reduce_mean(tf.square(var - mean)))\n",
    "            tf.summary.scalar('stddev', stddev)\n",
    "            tf.summary.scalar('max', tf.reduce_max(var))\n",
    "            tf.summary.scalar('min', tf.reduce_min(var))\n",
    "            tf.summary.histogram('histogram', var)"
   ]
  },
  {
   "cell_type": "code",
   "execution_count": 40,
   "metadata": {
    "collapsed": true
   },
   "outputs": [],
   "source": [
    "from math import sqrt\n",
    "\n",
    "def put_kernels_on_grid (kernel, pad = 1):\n",
    "\n",
    "    '''Visualize conv. features as an image (mostly for the 1st layer).\n",
    "    Place kernel into a grid, with some paddings between adjacent filters.\n",
    "    Args:\n",
    "      kernel:            tensor of shape [Y, X, NumChannels, NumKernels]\n",
    "      (grid_Y, grid_X):  shape of the grid. Require: NumKernels == grid_Y * grid_X\n",
    "                           User is responsible of how to break into two multiples.\n",
    "      pad:               number of black pixels around each filter (between them)\n",
    "    Return:\n",
    "      Tensor of shape [(Y+2*pad)*grid_Y, (X+2*pad)*grid_X, NumChannels, 1].\n",
    "    '''\n",
    "    # get shape of the grid. NumKernels == grid_Y * grid_X\n",
    "    def factorization(n):\n",
    "        for i in range(int(sqrt(float(n))), 0, -1):\n",
    "            if n % i == 0:\n",
    "                if i == 1: print('Who would enter a prime number of filters')\n",
    "                return (i, int(n / i))\n",
    "    (grid_Y, grid_X) = factorization (kernel.get_shape()[3].value)\n",
    "    print ('grid: %d = (%d, %d)' % (kernel.get_shape()[3].value, grid_Y, grid_X))\n",
    "\n",
    "    x_min = tf.reduce_min(kernel)\n",
    "    x_max = tf.reduce_max(kernel)\n",
    "\n",
    "    kernel1 = (kernel - x_min) / (x_max - x_min)\n",
    "\n",
    "    # pad X and Y\n",
    "    x1 = tf.pad(kernel1, tf.constant( [[pad,pad],[pad, pad],[0,0],[0,0]] ), mode = 'CONSTANT')\n",
    "\n",
    "    # X and Y dimensions, w.r.t. padding\n",
    "    Y = kernel1.get_shape()[0] + 2 * pad\n",
    "    X = kernel1.get_shape()[1] + 2 * pad\n",
    "\n",
    "    channels = kernel1.get_shape()[2]\n",
    "\n",
    "    # put NumKernels to the 1st dimension\n",
    "    x2 = tf.transpose(x1, (3, 0, 1, 2))\n",
    "    # organize grid on Y axis\n",
    "    x3 = tf.reshape(x2, tf.pack([grid_X, Y * grid_Y, X, channels]))\n",
    "\n",
    "    # switch X and Y axes\n",
    "    x4 = tf.transpose(x3, (0, 2, 1, 3))\n",
    "    # organize grid on X axis\n",
    "    x5 = tf.reshape(x4, tf.pack([1, X * grid_X, Y * grid_Y, channels]))\n",
    "\n",
    "    # back to normal order (not combining with the next step for clarity)\n",
    "    x6 = tf.transpose(x5, (2, 1, 3, 0))\n",
    "\n",
    "    # to tf.image_summary order [batch_size, height, width, channels],\n",
    "    #   where in this case batch_size == 1\n",
    "    x7 = tf.transpose(x6, (3, 0, 1, 2))\n",
    "\n",
    "    # scaling to [0, 255] is not necessary for tensorboard\n",
    "    return x7"
   ]
  },
  {
   "cell_type": "code",
   "execution_count": null,
   "metadata": {
    "collapsed": true
   },
   "outputs": [],
   "source": []
  }
 ],
 "metadata": {
  "kernelspec": {
   "display_name": "Python 2",
   "language": "python",
   "name": "python2"
  },
  "language_info": {
   "codemirror_mode": {
    "name": "ipython",
    "version": 2
   },
   "file_extension": ".py",
   "mimetype": "text/x-python",
   "name": "python",
   "nbconvert_exporter": "python",
   "pygments_lexer": "ipython2",
   "version": "2.7.12"
  }
 },
 "nbformat": 4,
 "nbformat_minor": 0
}
