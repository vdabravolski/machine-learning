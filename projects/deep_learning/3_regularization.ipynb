{
 "cells": [
  {
   "cell_type": "markdown",
   "metadata": {
    "colab_type": "text",
    "id": "kR-4eNdK6lYS"
   },
   "source": [
    "Deep Learning\n",
    "=============\n",
    "\n",
    "Assignment 3\n",
    "------------\n",
    "\n",
    "Previously in `2_fullyconnected.ipynb`, you trained a logistic regression and a neural network model.\n",
    "\n",
    "The goal of this assignment is to explore regularization techniques."
   ]
  },
  {
   "cell_type": "code",
   "execution_count": 1,
   "metadata": {
    "cellView": "both",
    "colab": {
     "autoexec": {
      "startup": false,
      "wait_interval": 0
     }
    },
    "colab_type": "code",
    "collapsed": true,
    "id": "JLpLa8Jt7Vu4"
   },
   "outputs": [],
   "source": [
    "# These are all the modules we'll be using later. Make sure you can import them\n",
    "# before proceeding further.\n",
    "from __future__ import print_function\n",
    "import numpy as np\n",
    "import tensorflow as tf\n",
    "from six.moves import cPickle as pickle"
   ]
  },
  {
   "cell_type": "markdown",
   "metadata": {
    "colab_type": "text",
    "id": "1HrCK6e17WzV"
   },
   "source": [
    "First reload the data we generated in _notmist.ipynb_."
   ]
  },
  {
   "cell_type": "code",
   "execution_count": 2,
   "metadata": {
    "cellView": "both",
    "colab": {
     "autoexec": {
      "startup": false,
      "wait_interval": 0
     },
     "output_extras": [
      {
       "item_id": 1
      }
     ]
    },
    "colab_type": "code",
    "collapsed": false,
    "executionInfo": {
     "elapsed": 11777,
     "status": "ok",
     "timestamp": 1449849322348,
     "user": {
      "color": "",
      "displayName": "",
      "isAnonymous": false,
      "isMe": true,
      "permissionId": "",
      "photoUrl": "",
      "sessionId": "0",
      "userId": ""
     },
     "user_tz": 480
    },
    "id": "y3-cj1bpmuxc",
    "outputId": "e03576f1-ebbe-4838-c388-f1777bcc9873"
   },
   "outputs": [
    {
     "name": "stdout",
     "output_type": "stream",
     "text": [
      "Training set (200000, 28, 28) (200000,)\n",
      "Validation set (10000, 28, 28) (10000,)\n",
      "Test set (10000, 28, 28) (10000,)\n"
     ]
    }
   ],
   "source": [
    "pickle_file = 'notMNIST.pickle'\n",
    "\n",
    "with open(pickle_file, 'rb') as f:\n",
    "  save = pickle.load(f)\n",
    "  train_dataset = save['train_dataset']\n",
    "  train_labels = save['train_labels']\n",
    "  valid_dataset = save['valid_dataset']\n",
    "  valid_labels = save['valid_labels']\n",
    "  test_dataset = save['test_dataset']\n",
    "  test_labels = save['test_labels']\n",
    "  del save  # hint to help gc free up memory\n",
    "  print('Training set', train_dataset.shape, train_labels.shape)\n",
    "  print('Validation set', valid_dataset.shape, valid_labels.shape)\n",
    "  print('Test set', test_dataset.shape, test_labels.shape)"
   ]
  },
  {
   "cell_type": "markdown",
   "metadata": {
    "colab_type": "text",
    "id": "L7aHrm6nGDMB"
   },
   "source": [
    "Reformat into a shape that's more adapted to the models we're going to train:\n",
    "- data as a flat matrix,\n",
    "- labels as float 1-hot encodings."
   ]
  },
  {
   "cell_type": "code",
   "execution_count": 3,
   "metadata": {
    "cellView": "both",
    "colab": {
     "autoexec": {
      "startup": false,
      "wait_interval": 0
     },
     "output_extras": [
      {
       "item_id": 1
      }
     ]
    },
    "colab_type": "code",
    "collapsed": false,
    "executionInfo": {
     "elapsed": 11728,
     "status": "ok",
     "timestamp": 1449849322356,
     "user": {
      "color": "",
      "displayName": "",
      "isAnonymous": false,
      "isMe": true,
      "permissionId": "",
      "photoUrl": "",
      "sessionId": "0",
      "userId": ""
     },
     "user_tz": 480
    },
    "id": "IRSyYiIIGIzS",
    "outputId": "3f8996ee-3574-4f44-c953-5c8a04636582"
   },
   "outputs": [
    {
     "name": "stdout",
     "output_type": "stream",
     "text": [
      "Training set (200000, 784) (200000,)\n",
      "Validation set (10000, 784) (10000,)\n",
      "Test set (10000, 784) (10000,)\n"
     ]
    }
   ],
   "source": [
    "image_size = 28\n",
    "num_labels = 10\n",
    "\n",
    "def reformat(dataset, labels):\n",
    "  dataset = dataset.reshape((-1, image_size * image_size)).astype(np.float32)\n",
    "  # Map 1 to [0.0, 1.0, 0.0 ...], 2 to [0.0, 0.0, 1.0 ...]\n",
    "  labels = (np.arange(num_labels) == labels[:,None]).astype(np.float32)\n",
    "  return dataset, labels\n",
    "train_dataset, train_labels_nn = reformat(train_dataset, train_labels)\n",
    "valid_dataset, valid_labels_nn = reformat(valid_dataset, valid_labels)\n",
    "test_dataset, test_labels_nn = reformat(test_dataset, test_labels)\n",
    "print('Training set', train_dataset.shape, train_labels.shape)\n",
    "print('Validation set', valid_dataset.shape, valid_labels.shape)\n",
    "print('Test set', test_dataset.shape, test_labels.shape)"
   ]
  },
  {
   "cell_type": "code",
   "execution_count": 4,
   "metadata": {
    "cellView": "both",
    "colab": {
     "autoexec": {
      "startup": false,
      "wait_interval": 0
     }
    },
    "colab_type": "code",
    "collapsed": true,
    "id": "RajPLaL_ZW6w"
   },
   "outputs": [],
   "source": [
    "def accuracy(predictions, labels):\n",
    "  return (100.0 * np.sum(np.argmax(predictions, 1) == np.argmax(labels, 1))\n",
    "          / predictions.shape[0])"
   ]
  },
  {
   "cell_type": "markdown",
   "metadata": {
    "colab_type": "text",
    "id": "sgLbUAQ1CW-1"
   },
   "source": [
    "---\n",
    "Problem 1\n",
    "---------\n",
    "\n",
    "Introduce and tune L2 regularization for both logistic and neural network models. Remember that L2 amounts to adding a penalty on the norm of the weights to the loss. In TensorFlow, you can compute the L2 loss for a tensor `t` using `nn.l2_loss(t)`. The right amount of regularization should improve your validation / test accuracy.\n",
    "\n",
    "---"
   ]
  },
  {
   "cell_type": "code",
   "execution_count": 8,
   "metadata": {
    "collapsed": false
   },
   "outputs": [
    {
     "data": {
      "text/plain": [
       "0.90059999999999996"
      ]
     },
     "execution_count": 8,
     "metadata": {},
     "output_type": "execute_result"
    }
   ],
   "source": [
    "# Logistic regularization\n",
    "\n",
    "from sklearn.linear_model import LogisticRegression\n",
    "from sklearn.metrics import confusion_matrix\n",
    "from sklearn.metrics import accuracy_score\n",
    "\n",
    "classifier=LogisticRegression(penalty='l2',solver='sag',multi_class=\"multinomial\")\n",
    "\n",
    "classifier.fit(train_dataset,train_labels)\n",
    "predicted_labels=classifier.predict(test_dataset)\n",
    "confusion_matrix(predicted_labels,test_labels)\n",
    "accuracy_score(predicted_labels,test_labels)"
   ]
  },
  {
   "cell_type": "code",
   "execution_count": 19,
   "metadata": {
    "collapsed": false
   },
   "outputs": [
    {
     "name": "stdout",
     "output_type": "stream",
     "text": [
      "The accuracy of logistic regression with L2      regularization and C=1.0 is 0.900600\n"
     ]
    }
   ],
   "source": [
    "# The output of linear classifier on the validation set\n",
    "print(\"The accuracy of logistic regression with L2\\\n",
    "      regularization and C=1.0 is %f\"%accuracy_score(predicted_labels,test_labels))"
   ]
  },
  {
   "cell_type": "code",
   "execution_count": 5,
   "metadata": {
    "collapsed": false
   },
   "outputs": [
    {
     "name": "stdout",
     "output_type": "stream",
     "text": [
      "Initialized\n",
      "Minibatch loss at step 0: 689.069824\n",
      "Minibatch accuracy: 7.0%\n",
      "Validation accuracy: 27.7%\n",
      "Minibatch loss at step 500: 199.064819\n",
      "Minibatch accuracy: 75.0%\n",
      "Validation accuracy: 79.0%\n",
      "Minibatch loss at step 1000: 115.994698\n",
      "Minibatch accuracy: 80.5%\n",
      "Validation accuracy: 81.2%\n",
      "Minibatch loss at step 1500: 68.747551\n",
      "Minibatch accuracy: 86.7%\n",
      "Validation accuracy: 82.8%\n",
      "Minibatch loss at step 2000: 41.182217\n",
      "Minibatch accuracy: 88.3%\n",
      "Validation accuracy: 85.0%\n",
      "Minibatch loss at step 2500: 25.136051\n",
      "Minibatch accuracy: 87.5%\n",
      "Validation accuracy: 85.5%\n",
      "Minibatch loss at step 3000: 15.472307\n",
      "Minibatch accuracy: 86.7%\n",
      "Validation accuracy: 86.1%\n",
      "Test accuracy: 93.0%\n"
     ]
    }
   ],
   "source": [
    "# Neural network regularization\n",
    "batch_size=128\n",
    "hidden_layer_size=1024\n",
    "num_steps = 3001\n",
    "reg_param=0.001\n",
    "\n",
    "\n",
    "sess1=tf.InteractiveSession()\n",
    "\n",
    "# define variables\n",
    "tf_train_dataset = tf.placeholder(tf.float32,shape=(batch_size, image_size * image_size))\n",
    "tf_train_labels = tf.placeholder(tf.float32, shape=(batch_size, num_labels))\n",
    "tf_valid_dataset = tf.constant(valid_dataset)\n",
    "tf_test_dataset = tf.constant(test_dataset)\n",
    "tf_reg_param=tf.constant(reg_param)\n",
    "\n",
    "#NETWORK CONSTRUCTION\n",
    "#hidden layer\n",
    "w_hidden = tf.Variable(tf.truncated_normal([image_size * image_size, hidden_layer_size]))\n",
    "b_hidden = tf.Variable(tf.zeros([hidden_layer_size]))\n",
    "l_hidden = tf.nn.relu(tf.matmul(tf_train_dataset, w_hidden) + b_hidden)\n",
    "\n",
    "#read out layer\n",
    "w_out = tf.Variable(tf.truncated_normal([hidden_layer_size, num_labels]))\n",
    "b_out = tf.Variable(tf.zeros([num_labels]))\n",
    "l_out = tf.matmul(l_hidden, w_out) + b_out\n",
    "\n",
    "cross_entropy=tf.nn.softmax_cross_entropy_with_logits(l_out, tf_train_labels)\n",
    "loss = tf.reduce_mean(cross_entropy)+tf_reg_param*(tf.nn.l2_loss(w_hidden)\n",
    "                                                   +tf.nn.l2_loss(w_out))\n",
    "\n",
    "optimizer = tf.train.GradientDescentOptimizer(0.5).minimize(loss)\n",
    "\n",
    "train_prediction = tf.nn.softmax(l_out)\n",
    "valid_prediction = tf.nn.softmax(tf.matmul(\n",
    "        tf.nn.relu(tf.matmul(tf_valid_dataset, w_hidden) + b_hidden),w_out)+b_out)\n",
    "test_prediction = tf.nn.softmax(tf.matmul(\n",
    "        tf.nn.relu(tf.matmul(tf_test_dataset, w_hidden) + b_hidden),w_out)+b_out)\n",
    "\n",
    "#EXECUTION\n",
    "tf.initialize_all_variables().run()\n",
    "\n",
    "print(\"Initialized\")\n",
    "for step in range(num_steps):\n",
    "    # Pick an offset within the training data, which has been randomized.\n",
    "    # Note: we could use better randomization across epochs.\n",
    "    offset = (step * batch_size) % (train_labels.shape[0] - batch_size)\n",
    "    # Generate a minibatch.\n",
    "    batch_data = train_dataset[offset:(offset + batch_size), :]        \n",
    "    batch_labels = train_labels_nn[offset:(offset + batch_size), :]\n",
    "        \n",
    "    # Prepare a dictionary telling the session where to feed the minibatch.\n",
    "    # The key of the dictionary is the placeholder node of the graph to be fed,\n",
    "    # and the value is the numpy array to feed to it.\n",
    "    feed_dict = {tf_train_dataset : batch_data, tf_train_labels : batch_labels}\n",
    "    _, l, predictions = sess1.run([optimizer, loss, train_prediction], feed_dict=feed_dict)\n",
    "        \n",
    "    if (step % 500 == 0):\n",
    "        print(\"Minibatch loss at step %d: %f\" % (step, l))\n",
    "        print(\"Minibatch accuracy: %.1f%%\" % accuracy(predictions, batch_labels))\n",
    "        print(\"Validation accuracy: %.1f%%\" % accuracy(valid_prediction.eval(), valid_labels_nn))\n",
    "print(\"Test accuracy: %.1f%%\" % accuracy(test_prediction.eval(), test_labels_nn))\n",
    "\n",
    "sess1.close()\n"
   ]
  },
  {
   "cell_type": "markdown",
   "metadata": {},
   "source": [
    "<h2>Answer 1</h2>\n",
    "- Both Logistic Classifier and NN Classifier shows comparables performance on the available data set. Accuracys is slightly above 90% on the validation dataset.\n",
    "- We can see about 2% accuracy improvement for NN Classifier after introduction of L2 Regularization for weights. \n",
    "- The tuning of L2 parameter for NN Classifier gave following results:\n",
    "    - with L2 value = 0.01, score is ~90%\n",
    "    - with L2 value = 0.1, score is 82.3%\n",
    "    - with L2 value=0.05, score is 87.6%\n",
    "    - with L2 value=0.005, score is 91.7%\n",
    "    - with L2 value=0.001, score is 93.0%\n",
    "    "
   ]
  },
  {
   "cell_type": "markdown",
   "metadata": {
    "colab_type": "text",
    "id": "na8xX2yHZzNF"
   },
   "source": [
    "---\n",
    "Problem 2\n",
    "---------\n",
    "Let's demonstrate an extreme case of overfitting. Restrict your training data to just a few batches. What happens?\n",
    "\n",
    "---"
   ]
  },
  {
   "cell_type": "code",
   "execution_count": 29,
   "metadata": {
    "collapsed": false
   },
   "outputs": [
    {
     "name": "stdout",
     "output_type": "stream",
     "text": [
      "Initialized\n",
      "Minibatch loss at step 0: 628.422363\n",
      "Minibatch accuracy: 11.7%\n",
      "Validation accuracy: 33.0%\n",
      "Minibatch loss at step 2: 1283.929077\n",
      "Minibatch accuracy: 32.8%\n",
      "Validation accuracy: 39.5%\n",
      "Minibatch loss at step 4: 618.846558\n",
      "Minibatch accuracy: 60.9%\n",
      "Validation accuracy: 50.6%\n",
      "Minibatch loss at step 6: 354.213318\n",
      "Minibatch accuracy: 90.6%\n",
      "Validation accuracy: 67.6%\n",
      "Minibatch loss at step 8: 326.203949\n",
      "Minibatch accuracy: 94.5%\n",
      "Validation accuracy: 69.4%\n",
      "Test accuracy: 74.0%\n"
     ]
    }
   ],
   "source": [
    "# Neural network regularization\n",
    "reduced_steps = 10\n",
    "reg_param=0\n",
    "\n",
    "reduced_train_labels=train_labels_nn[:200]\n",
    "reduced_train_dataset=train_dataset[:200]\n",
    "\n",
    "\n",
    "sess2=tf.InteractiveSession()\n",
    "\n",
    "tf.initialize_all_variables().run()\n",
    "\n",
    "print(\"Initialized\")\n",
    "for step in range(reduced_steps):\n",
    "    # Pick an offset within the training data, which has been randomized.\n",
    "    # Note: we could use better randomization across epochs.\n",
    "    offset = (step * batch_size) % (reduced_train_labels.shape[0] - batch_size)\n",
    "    # Generate a minibatch.\n",
    "    batch_data = reduced_train_dataset[offset:(offset + batch_size), :]        \n",
    "    batch_labels = reduced_train_labels[offset:(offset + batch_size), :]\n",
    "        \n",
    "    # Prepare a dictionary telling the session where to feed the minibatch.\n",
    "    # The key of the dictionary is the placeholder node of the graph to be fed,\n",
    "    # and the value is the numpy array to feed to it.\n",
    "    feed_dict = {tf_train_dataset : batch_data, tf_train_labels : batch_labels}\n",
    "    _, l, predictions = sess2.run([optimizer, loss, train_prediction], feed_dict=feed_dict)\n",
    "        \n",
    "    if (step % 2 == 0):\n",
    "        print(\"Minibatch loss at step %d: %f\" % (step, l))\n",
    "        print(\"Minibatch accuracy: %.1f%%\" % accuracy(predictions, batch_labels))\n",
    "        print(\"Validation accuracy: %.1f%%\" % accuracy(valid_prediction.eval(), valid_labels_nn))\n",
    "print(\"Test accuracy: %.1f%%\" % accuracy(test_prediction.eval(), test_labels_nn))\n",
    "\n",
    "sess2.close()\n"
   ]
  },
  {
   "cell_type": "markdown",
   "metadata": {},
   "source": [
    "<h2> Answer 2 </h2>\n",
    "- Validation and Test accuracy are low, while accuracy on minibatch is high."
   ]
  },
  {
   "cell_type": "markdown",
   "metadata": {
    "colab_type": "text",
    "id": "ww3SCBUdlkRc"
   },
   "source": [
    "---\n",
    "Problem 3\n",
    "---------\n",
    "Introduce Dropout on the hidden layer of the neural network. Remember: Dropout should only be introduced during training, not evaluation, otherwise your evaluation results would be stochastic as well. TensorFlow provides `nn.dropout()` for that, but you have to make sure it's only inserted during training.\n",
    "\n",
    "What happens to our extreme overfitting case?\n",
    "\n",
    "---"
   ]
  },
  {
   "cell_type": "code",
   "execution_count": 14,
   "metadata": {
    "collapsed": false
   },
   "outputs": [
    {
     "name": "stderr",
     "output_type": "stream",
     "text": [
      "Exception AssertionError: AssertionError(\"Nesting violated for default stack of <type 'weakref'> objects\",) in <bound method InteractiveSession.__del__ of <tensorflow.python.client.session.InteractiveSession object at 0x144026910>> ignored\n"
     ]
    },
    {
     "name": "stdout",
     "output_type": "stream",
     "text": [
      "Initialized\n",
      "Minibatch loss at step 0: 548.395081\n",
      "Minibatch accuracy: 10.9%\n",
      "Validation accuracy: 27.4%\n",
      "Minibatch loss at step 500: 38.227726\n",
      "Minibatch accuracy: 75.0%\n",
      "Validation accuracy: 79.8%\n",
      "Minibatch loss at step 1000: 20.944315\n",
      "Minibatch accuracy: 71.9%\n",
      "Validation accuracy: 80.5%\n",
      "Minibatch loss at step 1500: 16.034319\n",
      "Minibatch accuracy: 79.7%\n",
      "Validation accuracy: 79.0%\n",
      "Minibatch loss at step 2000: 5.480493\n",
      "Minibatch accuracy: 80.5%\n",
      "Validation accuracy: 78.5%\n",
      "Minibatch loss at step 2500: 6.161688\n",
      "Minibatch accuracy: 72.7%\n",
      "Validation accuracy: 79.4%\n",
      "Minibatch loss at step 3000: 3.012784\n",
      "Minibatch accuracy: 71.9%\n",
      "Validation accuracy: 79.5%\n",
      "Test accuracy: 87.2%\n"
     ]
    }
   ],
   "source": [
    "# Neural network regularization\n",
    "batch_size=128\n",
    "hidden_layer_size=1024\n",
    "num_steps = 3001\n",
    "reg_param=0.000000001\n",
    "p_dropout=0.5\n",
    "random_seed=999\n",
    "\n",
    "sess3=tf.InteractiveSession()\n",
    "\n",
    "# define variables\n",
    "tf_train_dataset = tf.placeholder(tf.float32,shape=(batch_size, image_size * image_size))\n",
    "tf_train_labels = tf.placeholder(tf.float32, shape=(batch_size, num_labels))\n",
    "tf_valid_dataset = tf.constant(valid_dataset)\n",
    "tf_test_dataset = tf.constant(test_dataset)\n",
    "tf_reg_param=tf.constant(reg_param)\n",
    "\n",
    "#NETWORK CONSTRUCTION\n",
    "#hidden layer\n",
    "w_hidden = tf.Variable(tf.truncated_normal([image_size * image_size, hidden_layer_size]))\n",
    "b_hidden = tf.Variable(tf.zeros([hidden_layer_size]))\n",
    "l_hidden = tf.nn.relu(tf.matmul(tf_train_dataset, w_hidden) + b_hidden)\n",
    "\n",
    "#dropout\n",
    "l_dropout=tf.nn.dropout(x=l_hidden,keep_prob=p_dropout,seed=random_seed)\n",
    "tf.Print(l_dropout,[l_dropout])\n",
    "\n",
    "#read out layer\n",
    "w_out = tf.Variable(tf.truncated_normal([hidden_layer_size, num_labels]))\n",
    "b_out = tf.Variable(tf.zeros([num_labels]))\n",
    "l_out = tf.matmul(l_dropout, w_out) + b_out\n",
    "\n",
    "cross_entropy=tf.nn.softmax_cross_entropy_with_logits(l_out, tf_train_labels)\n",
    "loss = tf.reduce_mean(cross_entropy)+tf_reg_param*(tf.nn.l2_loss(w_hidden)\n",
    "                                                   +tf.nn.l2_loss(w_out))\n",
    "\n",
    "optimizer = tf.train.GradientDescentOptimizer(0.5).minimize(loss)\n",
    "\n",
    "train_prediction = tf.nn.softmax(l_out)\n",
    "valid_prediction = tf.nn.softmax(tf.matmul(\n",
    "        tf.nn.relu(tf.matmul(tf_valid_dataset, w_hidden) + b_hidden),w_out)+b_out)\n",
    "test_prediction = tf.nn.softmax(tf.matmul(\n",
    "        tf.nn.relu(tf.matmul(tf_test_dataset, w_hidden) + b_hidden),w_out)+b_out)\n",
    "\n",
    "#EXECUTION\n",
    "tf.initialize_all_variables().run()\n",
    "\n",
    "print(\"Initialized\")\n",
    "for step in range(num_steps):\n",
    "    # Pick an offset within the training data, which has been randomized.\n",
    "    # Note: we could use better randomization across epochs.\n",
    "    offset = (step * batch_size) % (train_labels.shape[0] - batch_size)\n",
    "    # Generate a minibatch.\n",
    "    batch_data = train_dataset[offset:(offset + batch_size), :]        \n",
    "    batch_labels = train_labels_nn[offset:(offset + batch_size), :]\n",
    "        \n",
    "    # Prepare a dictionary telling the session where to feed the minibatch.\n",
    "    # The key of the dictionary is the placeholder node of the graph to be fed,\n",
    "    # and the value is the numpy array to feed to it.\n",
    "    feed_dict = {tf_train_dataset : batch_data, tf_train_labels : batch_labels}\n",
    "    _, l, predictions = sess3.run([optimizer, loss, train_prediction], feed_dict=feed_dict)\n",
    "        \n",
    "    if (step % 500 == 0):\n",
    "        print(\"Minibatch loss at step %d: %f\" % (step, l))\n",
    "        print(\"Minibatch accuracy: %.1f%%\" % accuracy(predictions, batch_labels))\n",
    "        print(\"Validation accuracy: %.1f%%\" % accuracy(valid_prediction.eval(), valid_labels_nn))\n",
    "print(\"Test accuracy: %.1f%%\" % accuracy(test_prediction.eval(), test_labels_nn))\n",
    "\n",
    "sess3.close()\n"
   ]
  },
  {
   "cell_type": "code",
   "execution_count": 16,
   "metadata": {
    "collapsed": false
   },
   "outputs": [
    {
     "name": "stdout",
     "output_type": "stream",
     "text": [
      "Initialized\n",
      "Minibatch loss at step 0: 477.737427\n",
      "Minibatch accuracy: 13.3%\n",
      "Validation accuracy: 31.5%\n",
      "Minibatch loss at step 2: 1604.762085\n",
      "Minibatch accuracy: 32.8%\n",
      "Validation accuracy: 32.4%\n",
      "Minibatch loss at step 4: 476.310486\n",
      "Minibatch accuracy: 54.7%\n",
      "Validation accuracy: 50.8%\n",
      "Minibatch loss at step 6: 72.049065\n",
      "Minibatch accuracy: 85.9%\n",
      "Validation accuracy: 68.2%\n",
      "Minibatch loss at step 8: 36.454388\n",
      "Minibatch accuracy: 90.6%\n",
      "Validation accuracy: 64.8%\n",
      "Test accuracy: 74.7%\n"
     ]
    }
   ],
   "source": [
    "# Neural network regularization\n",
    "reduced_steps = 10\n",
    "reg_param=0.001\n",
    "p_dropout=0.1\n",
    "random_seed=999\n",
    "\n",
    "reduced_train_labels=train_labels_nn[:200]\n",
    "reduced_train_dataset=train_dataset[:200]\n",
    "\n",
    "\n",
    "sess4=tf.InteractiveSession()\n",
    "\n",
    "tf.initialize_all_variables().run()\n",
    "\n",
    "print(\"Initialized\")\n",
    "for step in range(reduced_steps):\n",
    "    # Pick an offset within the training data, which has been randomized.\n",
    "    # Note: we could use better randomization across epochs.\n",
    "    offset = (step * batch_size) % (reduced_train_labels.shape[0] - batch_size)\n",
    "    # Generate a minibatch.\n",
    "    batch_data = reduced_train_dataset[offset:(offset + batch_size), :]        \n",
    "    batch_labels = reduced_train_labels[offset:(offset + batch_size), :]\n",
    "        \n",
    "    # Prepare a dictionary telling the session where to feed the minibatch.\n",
    "    # The key of the dictionary is the placeholder node of the graph to be fed,\n",
    "    # and the value is the numpy array to feed to it.\n",
    "    feed_dict = {tf_train_dataset : batch_data, tf_train_labels : batch_labels}\n",
    "    _, l, predictions = sess4.run([optimizer, loss, train_prediction], feed_dict=feed_dict)\n",
    "        \n",
    "    if (step % 2 == 0):\n",
    "        print(\"Minibatch loss at step %d: %f\" % (step, l))\n",
    "        print(\"Minibatch accuracy: %.1f%%\" % accuracy(predictions, batch_labels))\n",
    "        print(\"Validation accuracy: %.1f%%\" % accuracy(valid_prediction.eval(), valid_labels_nn))\n",
    "print(\"Test accuracy: %.1f%%\" % accuracy(test_prediction.eval(), test_labels_nn))\n",
    "\n",
    "sess4.close()"
   ]
  },
  {
   "cell_type": "markdown",
   "metadata": {
    "colab_type": "text",
    "id": "-b1hTz3VWZjw"
   },
   "source": [
    "---\n",
    "Problem 4\n",
    "---------\n",
    "\n",
    "Try to get the best performance you can using a multi-layer model! The best reported test accuracy using a deep network is [97.1%](http://yaroslavvb.blogspot.com/2011/09/notmnist-dataset.html?showComment=1391023266211#c8758720086795711595).\n",
    "\n",
    "One avenue you can explore is to add multiple layers.\n",
    "\n",
    "Another one is to use learning rate decay:\n",
    "\n",
    "    global_step = tf.Variable(0)  # count the number of steps taken.\n",
    "    learning_rate = tf.train.exponential_decay(0.5, global_step, ...)\n",
    "    optimizer = tf.train.GradientDescentOptimizer(learning_rate).minimize(loss, global_step=global_step)\n",
    " \n",
    " ---\n"
   ]
  },
  {
   "cell_type": "code",
   "execution_count": 33,
   "metadata": {
    "collapsed": false
   },
   "outputs": [
    {
     "name": "stderr",
     "output_type": "stream",
     "text": [
      "Exception AssertionError: AssertionError(\"Nesting violated for default stack of <type 'weakref'> objects\",) in <bound method InteractiveSession.__del__ of <tensorflow.python.client.session.InteractiveSession object at 0x16ca11bd0>> ignored\n"
     ]
    },
    {
     "name": "stdout",
     "output_type": "stream",
     "text": [
      "Initialized\n",
      "Epoch id 0\n",
      "Minibatch loss at step 0: 1583.802979\n",
      "Minibatch accuracy: 4.7%\n",
      "Validation accuracy: 10.0%\n",
      "Epoch id 0\n",
      "Minibatch loss at step 1: 402849.062500\n",
      "Minibatch accuracy: 10.2%\n",
      "Validation accuracy: 10.1%\n",
      "Epoch id 0\n",
      "Minibatch loss at step 2: 8988940.000000\n",
      "Minibatch accuracy: 14.1%\n",
      "Validation accuracy: 10.0%\n",
      "Epoch id 0\n",
      "Minibatch loss at step 3: 89661652992.000000\n",
      "Minibatch accuracy: 5.5%\n",
      "Validation accuracy: 10.2%\n",
      "Epoch id 0\n",
      "Minibatch loss at step 4: 10047690113024.000000\n",
      "Minibatch accuracy: 10.2%\n",
      "Validation accuracy: 10.1%\n",
      "Epoch id 0\n",
      "Minibatch loss at step 5: 226222510639065541378048.000000\n",
      "Minibatch accuracy: 8.6%\n",
      "Validation accuracy: 9.5%\n",
      "Epoch id 0\n",
      "Minibatch loss at step 6: nan\n",
      "Minibatch accuracy: 8.6%\n",
      "Validation accuracy: 10.0%\n",
      "Epoch id 0\n",
      "Minibatch loss at step 7: nan\n",
      "Minibatch accuracy: 10.2%\n",
      "Validation accuracy: 10.0%\n",
      "Epoch id 0\n",
      "Minibatch loss at step 8: nan\n",
      "Minibatch accuracy: 10.9%\n",
      "Validation accuracy: 10.0%\n",
      "Epoch id 0\n",
      "Minibatch loss at step 9: nan\n",
      "Minibatch accuracy: 8.6%\n",
      "Validation accuracy: 10.0%\n",
      "Epoch id 0\n",
      "Minibatch loss at step 10: nan\n",
      "Minibatch accuracy: 10.2%\n",
      "Validation accuracy: 10.0%\n",
      "Epoch id 0\n",
      "Minibatch loss at step 11: nan\n",
      "Minibatch accuracy: 14.8%\n",
      "Validation accuracy: 10.0%\n",
      "Epoch id 0\n",
      "Minibatch loss at step 12: nan\n",
      "Minibatch accuracy: 7.0%\n",
      "Validation accuracy: 10.0%\n",
      "Epoch id 0\n",
      "Minibatch loss at step 13: nan\n",
      "Minibatch accuracy: 7.0%\n",
      "Validation accuracy: 10.0%\n",
      "Epoch id 0\n",
      "Minibatch loss at step 14: nan\n",
      "Minibatch accuracy: 10.2%\n",
      "Validation accuracy: 10.0%\n",
      "Epoch id 0\n",
      "Minibatch loss at step 15: nan\n",
      "Minibatch accuracy: 4.7%\n",
      "Validation accuracy: 10.0%\n",
      "Epoch id 0\n",
      "Minibatch loss at step 16: nan\n",
      "Minibatch accuracy: 9.4%\n",
      "Validation accuracy: 10.0%\n",
      "Epoch id 0\n",
      "Minibatch loss at step 17: nan\n",
      "Minibatch accuracy: 10.9%\n",
      "Validation accuracy: 10.0%\n",
      "Epoch id 0\n",
      "Minibatch loss at step 18: nan\n",
      "Minibatch accuracy: 14.8%\n",
      "Validation accuracy: 10.0%\n",
      "Epoch id 0\n",
      "Minibatch loss at step 19: nan\n",
      "Minibatch accuracy: 12.5%\n"
     ]
    },
    {
     "ename": "KeyboardInterrupt",
     "evalue": "",
     "output_type": "error",
     "traceback": [
      "\u001b[0;31m---------------------------------------------------------------------------\u001b[0m",
      "\u001b[0;31mKeyboardInterrupt\u001b[0m                         Traceback (most recent call last)",
      "\u001b[0;32m<ipython-input-33-a9b58a32ee55>\u001b[0m in \u001b[0;36m<module>\u001b[0;34m()\u001b[0m\n\u001b[1;32m     80\u001b[0m         \u001b[0;31m#print(cross_entropy)\u001b[0m\u001b[0;34m\u001b[0m\u001b[0;34m\u001b[0m\u001b[0m\n\u001b[1;32m     81\u001b[0m         \u001b[0;32mprint\u001b[0m\u001b[0;34m(\u001b[0m\u001b[0;34m\"Minibatch accuracy: %.1f%%\"\u001b[0m \u001b[0;34m%\u001b[0m \u001b[0maccuracy\u001b[0m\u001b[0;34m(\u001b[0m\u001b[0mpredictions\u001b[0m\u001b[0;34m,\u001b[0m \u001b[0mbatch_labels\u001b[0m\u001b[0;34m)\u001b[0m\u001b[0;34m)\u001b[0m\u001b[0;34m\u001b[0m\u001b[0m\n\u001b[0;32m---> 82\u001b[0;31m         \u001b[0;32mprint\u001b[0m\u001b[0;34m(\u001b[0m\u001b[0;34m\"Validation accuracy: %.1f%%\"\u001b[0m \u001b[0;34m%\u001b[0m \u001b[0maccuracy\u001b[0m\u001b[0;34m(\u001b[0m\u001b[0mvalid_prediction\u001b[0m\u001b[0;34m.\u001b[0m\u001b[0meval\u001b[0m\u001b[0;34m(\u001b[0m\u001b[0;34m)\u001b[0m\u001b[0;34m,\u001b[0m \u001b[0mvalid_labels_nn\u001b[0m\u001b[0;34m)\u001b[0m\u001b[0;34m)\u001b[0m\u001b[0;34m\u001b[0m\u001b[0m\n\u001b[0m\u001b[1;32m     83\u001b[0m \u001b[0;32mprint\u001b[0m\u001b[0;34m(\u001b[0m\u001b[0;34m\"Test accuracy: %.1f%%\"\u001b[0m \u001b[0;34m%\u001b[0m \u001b[0maccuracy\u001b[0m\u001b[0;34m(\u001b[0m\u001b[0mtest_prediction\u001b[0m\u001b[0;34m.\u001b[0m\u001b[0meval\u001b[0m\u001b[0;34m(\u001b[0m\u001b[0;34m)\u001b[0m\u001b[0;34m,\u001b[0m \u001b[0mtest_labels_nn\u001b[0m\u001b[0;34m)\u001b[0m\u001b[0;34m)\u001b[0m\u001b[0;34m\u001b[0m\u001b[0m\n\u001b[1;32m     84\u001b[0m \u001b[0;34m\u001b[0m\u001b[0m\n",
      "\u001b[0;32m/Users/dabravolski/anaconda/lib/python2.7/site-packages/tensorflow/python/framework/ops.pyc\u001b[0m in \u001b[0;36meval\u001b[0;34m(self, feed_dict, session)\u001b[0m\n\u001b[1;32m    554\u001b[0m \u001b[0;34m\u001b[0m\u001b[0m\n\u001b[1;32m    555\u001b[0m     \"\"\"\n\u001b[0;32m--> 556\u001b[0;31m     \u001b[0;32mreturn\u001b[0m \u001b[0m_eval_using_default_session\u001b[0m\u001b[0;34m(\u001b[0m\u001b[0mself\u001b[0m\u001b[0;34m,\u001b[0m \u001b[0mfeed_dict\u001b[0m\u001b[0;34m,\u001b[0m \u001b[0mself\u001b[0m\u001b[0;34m.\u001b[0m\u001b[0mgraph\u001b[0m\u001b[0;34m,\u001b[0m \u001b[0msession\u001b[0m\u001b[0;34m)\u001b[0m\u001b[0;34m\u001b[0m\u001b[0m\n\u001b[0m\u001b[1;32m    557\u001b[0m \u001b[0;34m\u001b[0m\u001b[0m\n\u001b[1;32m    558\u001b[0m \u001b[0;34m\u001b[0m\u001b[0m\n",
      "\u001b[0;32m/Users/dabravolski/anaconda/lib/python2.7/site-packages/tensorflow/python/framework/ops.pyc\u001b[0m in \u001b[0;36m_eval_using_default_session\u001b[0;34m(tensors, feed_dict, graph, session)\u001b[0m\n\u001b[1;32m   3647\u001b[0m                        \u001b[0;34m\"the tensor's graph is different from the session's \"\u001b[0m\u001b[0;34m\u001b[0m\u001b[0m\n\u001b[1;32m   3648\u001b[0m                        \"graph.\")\n\u001b[0;32m-> 3649\u001b[0;31m   \u001b[0;32mreturn\u001b[0m \u001b[0msession\u001b[0m\u001b[0;34m.\u001b[0m\u001b[0mrun\u001b[0m\u001b[0;34m(\u001b[0m\u001b[0mtensors\u001b[0m\u001b[0;34m,\u001b[0m \u001b[0mfeed_dict\u001b[0m\u001b[0;34m)\u001b[0m\u001b[0;34m\u001b[0m\u001b[0m\n\u001b[0m\u001b[1;32m   3650\u001b[0m \u001b[0;34m\u001b[0m\u001b[0m\n\u001b[1;32m   3651\u001b[0m \u001b[0;34m\u001b[0m\u001b[0m\n",
      "\u001b[0;32m/Users/dabravolski/anaconda/lib/python2.7/site-packages/tensorflow/python/client/session.pyc\u001b[0m in \u001b[0;36mrun\u001b[0;34m(self, fetches, feed_dict, options, run_metadata)\u001b[0m\n\u001b[1;32m    380\u001b[0m     \u001b[0;32mtry\u001b[0m\u001b[0;34m:\u001b[0m\u001b[0;34m\u001b[0m\u001b[0m\n\u001b[1;32m    381\u001b[0m       result = self._run(None, fetches, feed_dict, options_ptr,\n\u001b[0;32m--> 382\u001b[0;31m                          run_metadata_ptr)\n\u001b[0m\u001b[1;32m    383\u001b[0m       \u001b[0;32mif\u001b[0m \u001b[0mrun_metadata\u001b[0m\u001b[0;34m:\u001b[0m\u001b[0;34m\u001b[0m\u001b[0m\n\u001b[1;32m    384\u001b[0m         \u001b[0mproto_data\u001b[0m \u001b[0;34m=\u001b[0m \u001b[0mtf_session\u001b[0m\u001b[0;34m.\u001b[0m\u001b[0mTF_GetBuffer\u001b[0m\u001b[0;34m(\u001b[0m\u001b[0mrun_metadata_ptr\u001b[0m\u001b[0;34m)\u001b[0m\u001b[0;34m\u001b[0m\u001b[0m\n",
      "\u001b[0;32m/Users/dabravolski/anaconda/lib/python2.7/site-packages/tensorflow/python/client/session.pyc\u001b[0m in \u001b[0;36m_run\u001b[0;34m(self, handle, fetches, feed_dict, options, run_metadata)\u001b[0m\n\u001b[1;32m    653\u001b[0m     \u001b[0mmovers\u001b[0m \u001b[0;34m=\u001b[0m \u001b[0mself\u001b[0m\u001b[0;34m.\u001b[0m\u001b[0m_update_with_movers\u001b[0m\u001b[0;34m(\u001b[0m\u001b[0mfeed_dict_string\u001b[0m\u001b[0;34m,\u001b[0m \u001b[0mfeed_map\u001b[0m\u001b[0;34m)\u001b[0m\u001b[0;34m\u001b[0m\u001b[0m\n\u001b[1;32m    654\u001b[0m     results = self._do_run(handle, target_list, unique_fetches,\n\u001b[0;32m--> 655\u001b[0;31m                            feed_dict_string, options, run_metadata)\n\u001b[0m\u001b[1;32m    656\u001b[0m \u001b[0;34m\u001b[0m\u001b[0m\n\u001b[1;32m    657\u001b[0m     \u001b[0;31m# User may have fetched the same tensor multiple times, but we\u001b[0m\u001b[0;34m\u001b[0m\u001b[0;34m\u001b[0m\u001b[0m\n",
      "\u001b[0;32m/Users/dabravolski/anaconda/lib/python2.7/site-packages/tensorflow/python/client/session.pyc\u001b[0m in \u001b[0;36m_do_run\u001b[0;34m(self, handle, target_list, fetch_list, feed_dict, options, run_metadata)\u001b[0m\n\u001b[1;32m    721\u001b[0m     \u001b[0;32mif\u001b[0m \u001b[0mhandle\u001b[0m \u001b[0;32mis\u001b[0m \u001b[0mNone\u001b[0m\u001b[0;34m:\u001b[0m\u001b[0;34m\u001b[0m\u001b[0m\n\u001b[1;32m    722\u001b[0m       return self._do_call(_run_fn, self._session, feed_dict, fetch_list,\n\u001b[0;32m--> 723\u001b[0;31m                            target_list, options, run_metadata)\n\u001b[0m\u001b[1;32m    724\u001b[0m     \u001b[0;32melse\u001b[0m\u001b[0;34m:\u001b[0m\u001b[0;34m\u001b[0m\u001b[0m\n\u001b[1;32m    725\u001b[0m       return self._do_call(_prun_fn, self._session, handle, feed_dict,\n",
      "\u001b[0;32m/Users/dabravolski/anaconda/lib/python2.7/site-packages/tensorflow/python/client/session.pyc\u001b[0m in \u001b[0;36m_do_call\u001b[0;34m(self, fn, *args)\u001b[0m\n\u001b[1;32m    728\u001b[0m   \u001b[0;32mdef\u001b[0m \u001b[0m_do_call\u001b[0m\u001b[0;34m(\u001b[0m\u001b[0mself\u001b[0m\u001b[0;34m,\u001b[0m \u001b[0mfn\u001b[0m\u001b[0;34m,\u001b[0m \u001b[0;34m*\u001b[0m\u001b[0margs\u001b[0m\u001b[0;34m)\u001b[0m\u001b[0;34m:\u001b[0m\u001b[0;34m\u001b[0m\u001b[0m\n\u001b[1;32m    729\u001b[0m     \u001b[0;32mtry\u001b[0m\u001b[0;34m:\u001b[0m\u001b[0;34m\u001b[0m\u001b[0m\n\u001b[0;32m--> 730\u001b[0;31m       \u001b[0;32mreturn\u001b[0m \u001b[0mfn\u001b[0m\u001b[0;34m(\u001b[0m\u001b[0;34m*\u001b[0m\u001b[0margs\u001b[0m\u001b[0;34m)\u001b[0m\u001b[0;34m\u001b[0m\u001b[0m\n\u001b[0m\u001b[1;32m    731\u001b[0m     \u001b[0;32mexcept\u001b[0m \u001b[0merrors\u001b[0m\u001b[0;34m.\u001b[0m\u001b[0mOpError\u001b[0m \u001b[0;32mas\u001b[0m \u001b[0me\u001b[0m\u001b[0;34m:\u001b[0m\u001b[0;34m\u001b[0m\u001b[0m\n\u001b[1;32m    732\u001b[0m       \u001b[0mmessage\u001b[0m \u001b[0;34m=\u001b[0m \u001b[0mcompat\u001b[0m\u001b[0;34m.\u001b[0m\u001b[0mas_text\u001b[0m\u001b[0;34m(\u001b[0m\u001b[0me\u001b[0m\u001b[0;34m.\u001b[0m\u001b[0mmessage\u001b[0m\u001b[0;34m)\u001b[0m\u001b[0;34m\u001b[0m\u001b[0m\n",
      "\u001b[0;32m/Users/dabravolski/anaconda/lib/python2.7/site-packages/tensorflow/python/client/session.pyc\u001b[0m in \u001b[0;36m_run_fn\u001b[0;34m(session, feed_dict, fetch_list, target_list, options, run_metadata)\u001b[0m\n\u001b[1;32m    710\u001b[0m         return tf_session.TF_Run(session, options,\n\u001b[1;32m    711\u001b[0m                                  \u001b[0mfeed_dict\u001b[0m\u001b[0;34m,\u001b[0m \u001b[0mfetch_list\u001b[0m\u001b[0;34m,\u001b[0m \u001b[0mtarget_list\u001b[0m\u001b[0;34m,\u001b[0m\u001b[0;34m\u001b[0m\u001b[0m\n\u001b[0;32m--> 712\u001b[0;31m                                  status, run_metadata)\n\u001b[0m\u001b[1;32m    713\u001b[0m \u001b[0;34m\u001b[0m\u001b[0m\n\u001b[1;32m    714\u001b[0m     \u001b[0;32mdef\u001b[0m \u001b[0m_prun_fn\u001b[0m\u001b[0;34m(\u001b[0m\u001b[0msession\u001b[0m\u001b[0;34m,\u001b[0m \u001b[0mhandle\u001b[0m\u001b[0;34m,\u001b[0m \u001b[0mfeed_dict\u001b[0m\u001b[0;34m,\u001b[0m \u001b[0mfetch_list\u001b[0m\u001b[0;34m)\u001b[0m\u001b[0;34m:\u001b[0m\u001b[0;34m\u001b[0m\u001b[0m\n",
      "\u001b[0;31mKeyboardInterrupt\u001b[0m: "
     ]
    }
   ],
   "source": [
    "# Neural network regularization\n",
    "batch_size=128\n",
    "hidden_layer_size=256\n",
    "hidden_layer_size2=256\n",
    "\n",
    "num_steps = 300\n",
    "reg_param=0.0\n",
    "p_dropout=1 # need to modify it. no dropout layer at the moment\n",
    "random_seed=999\n",
    "\n",
    "sess5=tf.InteractiveSession()\n",
    "\n",
    "# define variables\n",
    "tf_train_dataset = tf.placeholder(tf.float32,shape=(batch_size, image_size * image_size))\n",
    "tf_train_labels = tf.placeholder(tf.float32, shape=(batch_size, num_labels))\n",
    "tf_valid_dataset = tf.constant(valid_dataset)\n",
    "tf_test_dataset = tf.constant(test_dataset)\n",
    "tf_reg_param=tf.constant(reg_param)\n",
    "\n",
    "#NETWORK CONSTRUCTION\n",
    "#hidden layer\n",
    "w_hidden = tf.Variable(tf.truncated_normal([image_size * image_size, hidden_layer_size]))\n",
    "b_hidden = tf.Variable(tf.zeros([hidden_layer_size]))\n",
    "l_hidden = tf.nn.relu(tf.matmul(tf_train_dataset, w_hidden) + b_hidden)\n",
    "\n",
    "#dropout TODO: experiment with dropout\n",
    "#l_dropout=tf.nn.dropout(x=l_hidden,keep_prob=p_dropout,seed=random_seed)\n",
    "#tf.Print(l_dropout,[l_dropout])\n",
    "\n",
    "#hidden layer #2\n",
    "w2_hidden = tf.Variable(tf.truncated_normal([hidden_layer_size, hidden_layer_size2]))\n",
    "b2_hidden = tf.Variable(tf.zeros([hidden_layer_size2]))\n",
    "l2_hidden = tf.nn.relu(tf.matmul(l_hidden, w2_hidden) + b2_hidden)\n",
    "\n",
    "#read out layer\n",
    "w_out = tf.Variable(tf.truncated_normal([hidden_layer_size2, num_labels]))\n",
    "b_out = tf.Variable(tf.zeros([num_labels]))\n",
    "l_out = tf.matmul(l2_hidden, w_out) + b_out\n",
    "\n",
    "cross_entropy=tf.nn.softmax_cross_entropy_with_logits(l_out, tf_train_labels)\n",
    "\n",
    "tf.Print(cross_entropy,[cross_entropy])\n",
    "loss = tf.reduce_mean(cross_entropy)+tf_reg_param*(tf.nn.l2_loss(w_hidden)\n",
    "                                                   + tf.nn.l2_loss(w2_hidden)\n",
    "                                                   + tf.nn.l2_loss(w_out))\n",
    "\n",
    "optimizer = tf.train.GradientDescentOptimizer(0.5).minimize(loss)\n",
    "\n",
    "train_prediction = tf.nn.softmax(l_out)\n",
    "valid_prediction = tf.nn.softmax(\n",
    "    tf.matmul(tf.nn.relu(tf.matmul(\n",
    "                tf.nn.relu(tf.matmul(tf_valid_dataset, w_hidden) + \n",
    "                           b_hidden),w2_hidden)+\n",
    "                         b2_hidden),w_out)+ b_out)\n",
    "test_prediction = tf.nn.softmax(\n",
    "    tf.matmul(tf.nn.relu(tf.matmul(\n",
    "                tf.nn.relu(tf.matmul(tf_test_dataset, w_hidden) + b_hidden),w2_hidden)+b2_hidden),w_out)+b_out)\n",
    "\n",
    "#EXECUTION\n",
    "tf.initialize_all_variables().run()\n",
    "\n",
    "print(\"Initialized\")\n",
    "for step in range(num_steps):\n",
    "    # Pick an offset within the training data, which has been randomized.\n",
    "    # Note: we could use better randomization across epochs.\n",
    "    offset = (step * batch_size) % (train_labels.shape[0] - batch_size)\n",
    "    # Generate a minibatch.\n",
    "    batch_data = train_dataset[offset:(offset + batch_size), :]        \n",
    "    batch_labels = train_labels_nn[offset:(offset + batch_size), :]\n",
    "        \n",
    "    # Prepare a dictionary telling the session where to feed the minibatch.\n",
    "    # The key of the dictionary is the placeholder node of the graph to be fed,\n",
    "    # and the value is the numpy array to feed to it.\n",
    "    feed_dict = {tf_train_dataset : batch_data, tf_train_labels : batch_labels}\n",
    "    _, l, predictions = sess5.run([optimizer, loss, train_prediction], feed_dict=feed_dict)\n",
    "        \n",
    "    if (step % 1 == 0):\n",
    "        print(\"Epoch id %d\"%(offset/20000))\n",
    "        print(\"Minibatch loss at step %d: %f\" % (step, l))\n",
    "        #print(cross_entropy)\n",
    "        print(\"Minibatch accuracy: %.1f%%\" % accuracy(predictions, batch_labels))\n",
    "        print(\"Validation accuracy: %.1f%%\" % accuracy(valid_prediction.eval(), valid_labels_nn))\n",
    "print(\"Test accuracy: %.1f%%\" % accuracy(test_prediction.eval(), test_labels_nn))\n",
    "\n",
    "sess5.close()\n"
   ]
  },
  {
   "cell_type": "code",
   "execution_count": 62,
   "metadata": {
    "collapsed": false
   },
   "outputs": [],
   "source": [
    "# Neural network regularization\n",
    "n_hidden_1=256\n",
    "n_hidden_2=256\n",
    "reg_param=0.0001\n",
    "p_dropout=1 # need to modify it. no dropout layer at the moment\n",
    "random_seed=999\n",
    "weight_std=1e-2\n",
    "\n",
    "\n",
    "#general parameters\n",
    "batch_size=128\n",
    "image_size=28\n",
    "num_steps = 10001\n",
    "n_classes=10\n",
    "\n",
    "# learning rate\n",
    "learning_rate=0.5\n",
    "decay_rate=0.9\n",
    "decay_steps=1000\n",
    "global_step = tf.Variable(0)  # count the number of steps taken.\n",
    "decayed_learning_rate = tf.train.exponential_decay(learning_rate=learning_rate, global_step=global_step, \n",
    "                                                   decay_steps=decay_steps, decay_rate=decay_rate, staircase=True )\n",
    "\n",
    "# define variables\n",
    "tf_train_dataset = tf.placeholder(tf.float32,shape=(batch_size, image_size * image_size))\n",
    "tf_train_labels = tf.placeholder(tf.float32, shape=(batch_size, n_classes))\n",
    "tf_valid_dataset = tf.constant(valid_dataset)\n",
    "tf_test_dataset = tf.constant(test_dataset)\n",
    "tf_reg_param=tf.constant(reg_param)\n",
    "\n",
    "# Create model\n",
    "def multilayer_perceptron(x, weights, biases):\n",
    "    # Hidden layer with RELU activation\n",
    "    layer_1 = tf.add(tf.matmul(x, weights['h1']), biases['b1'])\n",
    "    layer_1 = tf.nn.relu(layer_1)\n",
    "    # Hidden layer with RELU activation\n",
    "    layer_2 = tf.add(tf.matmul(layer_1, weights['h2']), biases['b2'])\n",
    "    layer_2 = tf.nn.relu(layer_2)\n",
    "    # Output layer with linear activation\n",
    "    out_layer = tf.matmul(layer_2, weights['out']) + biases['out']\n",
    "    return out_layer\n",
    "\n",
    "# Store layers weight & bias\n",
    "weights = {\n",
    "    'h1': tf.Variable(tf.truncated_normal([image_size*image_size, n_hidden_1],stddev=weight_std)),\n",
    "    'h2': tf.Variable(tf.truncated_normal([n_hidden_1, n_hidden_2],stddev=weight_std)),\n",
    "    'out': tf.Variable(tf.truncated_normal([n_hidden_2, n_classes],stddev=weight_std))\n",
    "}\n",
    "biases = {\n",
    "    'b1': tf.Variable(tf.zeros([n_hidden_1])),\n",
    "    'b2': tf.Variable(tf.zeros([n_hidden_2])),\n",
    "    'out': tf.Variable(tf.zeros([n_classes]))\n",
    "}\n",
    "\n",
    "# Construct model\n",
    "pred = multilayer_perceptron(tf_train_dataset, weights, biases)\n",
    "\n",
    "# Define loss and optimizer\n",
    "loss = tf.reduce_mean(tf.nn.softmax_cross_entropy_with_logits(pred, tf_train_labels))\n",
    "optimizer=tf.train.GradientDescentOptimizer(learning_rate=decayed_learning_rate).minimize(loss,global_step=global_step)\n",
    "train_prediction = tf.nn.softmax(pred)\n",
    "valid_prediction=tf.nn.softmax(multilayer_perceptron(tf_valid_dataset,weights,biases))\n",
    "test_prediction=tf.nn.softmax(multilayer_perceptron(tf_test_dataset,weights,biases))\n"
   ]
  },
  {
   "cell_type": "code",
   "execution_count": 63,
   "metadata": {
    "collapsed": false
   },
   "outputs": [
    {
     "name": "stdout",
     "output_type": "stream",
     "text": [
      "Initialized\n",
      "Epoch id 0\n",
      "Minibatch loss at step 0: 2.302844\n",
      "Learning rate 0.5\n",
      "Minibatch accuracy: 5.5%\n",
      "Validation accuracy: 10.0%\n",
      "Epoch id 3\n",
      "Minibatch loss at step 500: 0.368888\n",
      "Learning rate 0.5\n",
      "Minibatch accuracy: 88.3%\n",
      "Validation accuracy: 84.5%\n",
      "Epoch id 6\n",
      "Minibatch loss at step 1000: 0.493060\n",
      "Learning rate 0.4\n",
      "Minibatch accuracy: 85.2%\n",
      "Validation accuracy: 85.6%\n",
      "Epoch id 9\n",
      "Minibatch loss at step 1500: 0.277912\n",
      "Learning rate 0.4\n",
      "Minibatch accuracy: 92.2%\n",
      "Validation accuracy: 87.6%\n",
      "Epoch id 2\n",
      "Minibatch loss at step 2000: 0.262710\n",
      "Learning rate 0.4\n",
      "Minibatch accuracy: 93.8%\n",
      "Validation accuracy: 88.0%\n",
      "Epoch id 6\n",
      "Minibatch loss at step 2500: 0.299618\n",
      "Learning rate 0.4\n",
      "Minibatch accuracy: 89.8%\n",
      "Validation accuracy: 88.5%\n",
      "Epoch id 9\n",
      "Minibatch loss at step 3000: 0.351559\n",
      "Learning rate 0.4\n",
      "Minibatch accuracy: 87.5%\n",
      "Validation accuracy: 88.4%\n",
      "Epoch id 2\n",
      "Minibatch loss at step 3500: 0.395520\n",
      "Learning rate 0.4\n",
      "Minibatch accuracy: 88.3%\n",
      "Validation accuracy: 89.0%\n",
      "Epoch id 5\n",
      "Minibatch loss at step 4000: 0.254481\n",
      "Learning rate 0.3\n",
      "Minibatch accuracy: 93.0%\n",
      "Validation accuracy: 89.3%\n",
      "Epoch id 8\n",
      "Minibatch loss at step 4500: 0.274419\n",
      "Learning rate 0.3\n",
      "Minibatch accuracy: 89.8%\n",
      "Validation accuracy: 89.2%\n",
      "Epoch id 2\n",
      "Minibatch loss at step 5000: 0.344830\n",
      "Learning rate 0.3\n",
      "Minibatch accuracy: 91.4%\n",
      "Validation accuracy: 89.6%\n",
      "Epoch id 5\n",
      "Minibatch loss at step 5500: 0.338511\n",
      "Learning rate 0.3\n",
      "Minibatch accuracy: 89.8%\n",
      "Validation accuracy: 89.7%\n",
      "Epoch id 8\n",
      "Minibatch loss at step 6000: 0.389068\n",
      "Learning rate 0.3\n",
      "Minibatch accuracy: 88.3%\n",
      "Validation accuracy: 89.4%\n",
      "Epoch id 1\n",
      "Minibatch loss at step 6500: 0.227175\n",
      "Learning rate 0.3\n",
      "Minibatch accuracy: 94.5%\n",
      "Validation accuracy: 89.9%\n",
      "Epoch id 4\n",
      "Minibatch loss at step 7000: 0.396684\n",
      "Learning rate 0.2\n",
      "Minibatch accuracy: 88.3%\n",
      "Validation accuracy: 90.0%\n",
      "Epoch id 8\n",
      "Minibatch loss at step 7500: 0.308404\n",
      "Learning rate 0.2\n",
      "Minibatch accuracy: 86.7%\n",
      "Validation accuracy: 90.0%\n",
      "Epoch id 1\n",
      "Minibatch loss at step 8000: 0.382024\n",
      "Learning rate 0.2\n",
      "Minibatch accuracy: 87.5%\n",
      "Validation accuracy: 90.0%\n",
      "Epoch id 4\n",
      "Minibatch loss at step 8500: 0.198628\n",
      "Learning rate 0.2\n",
      "Minibatch accuracy: 93.8%\n",
      "Validation accuracy: 90.0%\n",
      "Epoch id 7\n",
      "Minibatch loss at step 9000: 0.270414\n",
      "Learning rate 0.2\n",
      "Minibatch accuracy: 92.2%\n",
      "Validation accuracy: 90.2%\n",
      "Epoch id 0\n",
      "Minibatch loss at step 9500: 0.241049\n",
      "Learning rate 0.2\n",
      "Minibatch accuracy: 93.0%\n",
      "Validation accuracy: 90.3%\n",
      "Epoch id 4\n",
      "Minibatch loss at step 10000: 0.233313\n",
      "Learning rate 0.2\n",
      "Minibatch accuracy: 91.4%\n",
      "Validation accuracy: 90.4%\n",
      "Test accuracy: 95.9%\n"
     ]
    }
   ],
   "source": [
    "# Initializing the variables\n",
    "init = tf.initialize_all_variables()\n",
    "print(\"Initialized\")\n",
    "# Launch the graph\n",
    "with tf.Session() as sess:\n",
    "    sess.run(init)\n",
    "    for step in range(num_steps):\n",
    "        # Pick an offset within the training data, which has been randomized.\n",
    "        # Note: we could use better randomization across epochs.\n",
    "        offset = (step * batch_size) % (train_labels.shape[0] - batch_size)\n",
    "        # Generate a minibatch.\n",
    "        batch_data = train_dataset[offset:(offset + batch_size), :]        \n",
    "        batch_labels = train_labels_nn[offset:(offset + batch_size), :]\n",
    "\n",
    "        # Prepare a dictionary telling the session where to feed the minibatch.\n",
    "        # The key of the dictionary is the placeholder node of the graph to be fed,\n",
    "        # and the value is the numpy array to feed to it.\n",
    "        feed_dict = {tf_train_dataset : batch_data, tf_train_labels : batch_labels}\n",
    "        _, l,predictions = sess.run([optimizer, loss, train_prediction], feed_dict=feed_dict)\n",
    "\n",
    "        if (step % 500 == 0):\n",
    "            print(\"Epoch id %d\"%(offset/20000))\n",
    "            print(\"Minibatch loss at step %d: %f\" % (step, l))\n",
    "            print(\"Learning rate %.1f\" % (decayed_learning_rate.eval()))\n",
    "            print(\"Minibatch accuracy: %.1f%%\" % accuracy(predictions, batch_labels))\n",
    "            print(\"Validation accuracy: %.1f%%\" % accuracy(valid_prediction.eval(), valid_labels_nn))\n",
    "    print(\"Test accuracy: %.1f%%\" % accuracy(test_prediction.eval(), test_labels_nn))\n",
    "\n",
    "    \n"
   ]
  },
  {
   "cell_type": "code",
   "execution_count": 45,
   "metadata": {
    "collapsed": false
   },
   "outputs": [
    {
     "name": "stdout",
     "output_type": "stream",
     "text": [
      "[   0 1000 2000 3000 4000 5000 6000 7000 8000 9000]\n"
     ]
    }
   ],
   "source": [
    "import matplotlib.pyplot as plt\n",
    "\n",
    "rate=0.5\n",
    "t = np.arange(0, 10000, 1000)\n",
    "print(t)\n",
    "s = rate*0.8**(t/1000)\n",
    "plt.plot(t, s)\n",
    "\n",
    "plt.xlabel('time (s)')\n",
    "plt.ylabel('voltage (mV)')\n",
    "plt.title('About as simple as it gets, folks')\n",
    "plt.grid(True)\n",
    "plt.savefig(\"test.png\")\n",
    "plt.show()"
   ]
  },
  {
   "cell_type": "code",
   "execution_count": null,
   "metadata": {
    "collapsed": true
   },
   "outputs": [],
   "source": []
  }
 ],
 "metadata": {
  "colab": {
   "default_view": {},
   "name": "3_regularization.ipynb",
   "provenance": [],
   "version": "0.3.2",
   "views": {}
  },
  "kernelspec": {
   "display_name": "Python 2",
   "language": "python",
   "name": "python2"
  },
  "language_info": {
   "codemirror_mode": {
    "name": "ipython",
    "version": 2
   },
   "file_extension": ".py",
   "mimetype": "text/x-python",
   "name": "python",
   "nbconvert_exporter": "python",
   "pygments_lexer": "ipython2",
   "version": "2.7.12"
  }
 },
 "nbformat": 4,
 "nbformat_minor": 0
}
