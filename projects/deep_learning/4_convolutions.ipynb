{
 "cells": [
  {
   "cell_type": "markdown",
   "metadata": {
    "colab_type": "text",
    "deletable": true,
    "editable": true,
    "id": "4embtkV0pNxM"
   },
   "source": [
    "Deep Learning\n",
    "=============\n",
    "\n",
    "Assignment 4\n",
    "------------\n",
    "\n",
    "Previously in `2_fullyconnected.ipynb` and `3_regularization.ipynb`, we trained fully connected networks to classify [notMNIST](http://yaroslavvb.blogspot.com/2011/09/notmnist-dataset.html) characters.\n",
    "\n",
    "The goal of this assignment is make the neural network convolutional."
   ]
  },
  {
   "cell_type": "code",
   "execution_count": 3,
   "metadata": {
    "cellView": "both",
    "colab": {
     "autoexec": {
      "startup": false,
      "wait_interval": 0
     }
    },
    "colab_type": "code",
    "collapsed": true,
    "deletable": true,
    "editable": true,
    "id": "tm2CQN_Cpwj0"
   },
   "outputs": [],
   "source": [
    "# These are all the modules we'll be using later. Make sure you can import them\n",
    "# before proceeding further.\n",
    "from __future__ import print_function\n",
    "import numpy as np\n",
    "import tensorflow as tf\n",
    "from six.moves import cPickle as pickle\n",
    "from six.moves import range"
   ]
  },
  {
   "cell_type": "code",
   "execution_count": 4,
   "metadata": {
    "cellView": "both",
    "colab": {
     "autoexec": {
      "startup": false,
      "wait_interval": 0
     },
     "output_extras": [
      {
       "item_id": 1
      }
     ]
    },
    "colab_type": "code",
    "collapsed": false,
    "deletable": true,
    "editable": true,
    "executionInfo": {
     "elapsed": 11948,
     "status": "ok",
     "timestamp": 1446658914837,
     "user": {
      "color": "",
      "displayName": "",
      "isAnonymous": false,
      "isMe": true,
      "permissionId": "",
      "photoUrl": "",
      "sessionId": "0",
      "userId": ""
     },
     "user_tz": 480
    },
    "id": "y3-cj1bpmuxc",
    "outputId": "016b1a51-0290-4b08-efdb-8c95ffc3cd01"
   },
   "outputs": [
    {
     "name": "stdout",
     "output_type": "stream",
     "text": [
      "Training set (200000, 28, 28) (200000,)\n",
      "Validation set (10000, 28, 28) (10000,)\n",
      "Test set (10000, 28, 28) (10000,)\n"
     ]
    }
   ],
   "source": [
    "pickle_file = 'notMNIST.pickle'\n",
    "\n",
    "with open(pickle_file, 'rb') as f:\n",
    "  save = pickle.load(f)\n",
    "  train_dataset = save['train_dataset']\n",
    "  train_labels = save['train_labels']\n",
    "  valid_dataset = save['valid_dataset']\n",
    "  valid_labels = save['valid_labels']\n",
    "  test_dataset = save['test_dataset']\n",
    "  test_labels = save['test_labels']\n",
    "  del save  # hint to help gc free up memory\n",
    "  print('Training set', train_dataset.shape, train_labels.shape)\n",
    "  print('Validation set', valid_dataset.shape, valid_labels.shape)\n",
    "  print('Test set', test_dataset.shape, test_labels.shape)"
   ]
  },
  {
   "cell_type": "markdown",
   "metadata": {
    "colab_type": "text",
    "deletable": true,
    "editable": true,
    "id": "L7aHrm6nGDMB"
   },
   "source": [
    "Reformat into a TensorFlow-friendly shape:\n",
    "- convolutions need the image data formatted as a cube (width by height by #channels)\n",
    "- labels as float 1-hot encodings."
   ]
  },
  {
   "cell_type": "code",
   "execution_count": 5,
   "metadata": {
    "cellView": "both",
    "colab": {
     "autoexec": {
      "startup": false,
      "wait_interval": 0
     },
     "output_extras": [
      {
       "item_id": 1
      }
     ]
    },
    "colab_type": "code",
    "collapsed": false,
    "deletable": true,
    "editable": true,
    "executionInfo": {
     "elapsed": 11952,
     "status": "ok",
     "timestamp": 1446658914857,
     "user": {
      "color": "",
      "displayName": "",
      "isAnonymous": false,
      "isMe": true,
      "permissionId": "",
      "photoUrl": "",
      "sessionId": "0",
      "userId": ""
     },
     "user_tz": 480
    },
    "id": "IRSyYiIIGIzS",
    "outputId": "650a208c-8359-4852-f4f5-8bf10e80ef6c"
   },
   "outputs": [
    {
     "name": "stdout",
     "output_type": "stream",
     "text": [
      "Training set (200000, 28, 28, 1) (200000, 10)\n",
      "Validation set (10000, 28, 28, 1) (10000, 10)\n",
      "Test set (10000, 28, 28, 1) (10000, 10)\n"
     ]
    }
   ],
   "source": [
    "image_size = 28\n",
    "num_labels = 10\n",
    "num_channels = 1 # grayscale\n",
    "\n",
    "import numpy as np\n",
    "\n",
    "def reformat(dataset, labels):\n",
    "  dataset = dataset.reshape(\n",
    "    (-1, image_size, image_size, num_channels)).astype(np.float32)\n",
    "  labels = (np.arange(num_labels) == labels[:,None]).astype(np.float32)\n",
    "  return dataset, labels\n",
    "train_dataset, train_labels = reformat(train_dataset, train_labels)\n",
    "valid_dataset, valid_labels = reformat(valid_dataset, valid_labels)\n",
    "test_dataset, test_labels = reformat(test_dataset, test_labels)\n",
    "print('Training set', train_dataset.shape, train_labels.shape)\n",
    "print('Validation set', valid_dataset.shape, valid_labels.shape)\n",
    "print('Test set', test_dataset.shape, test_labels.shape)"
   ]
  },
  {
   "cell_type": "code",
   "execution_count": 6,
   "metadata": {
    "cellView": "both",
    "colab": {
     "autoexec": {
      "startup": false,
      "wait_interval": 0
     }
    },
    "colab_type": "code",
    "collapsed": true,
    "deletable": true,
    "editable": true,
    "id": "AgQDIREv02p1"
   },
   "outputs": [],
   "source": [
    "def accuracy(predictions, labels):\n",
    "  return (100.0 * np.sum(np.argmax(predictions, 1) == np.argmax(labels, 1))\n",
    "          / predictions.shape[0])"
   ]
  },
  {
   "cell_type": "markdown",
   "metadata": {
    "colab_type": "text",
    "deletable": true,
    "editable": true,
    "id": "5rhgjmROXu2O"
   },
   "source": [
    "Let's build a small network with two convolutional layers, followed by one fully connected layer. Convolutional networks are more expensive computationally, so we'll limit its depth and number of fully connected nodes."
   ]
  },
  {
   "cell_type": "code",
   "execution_count": 5,
   "metadata": {
    "cellView": "both",
    "colab": {
     "autoexec": {
      "startup": false,
      "wait_interval": 0
     }
    },
    "colab_type": "code",
    "collapsed": true,
    "deletable": true,
    "editable": true,
    "id": "IZYv70SvvOan"
   },
   "outputs": [],
   "source": [
    "batch_size = 16\n",
    "patch_size = 5\n",
    "depth = 16\n",
    "num_hidden = 64\n",
    "\n",
    "graph = tf.Graph()\n",
    "\n",
    "with graph.as_default():\n",
    "\n",
    "  # Input data.\n",
    "  tf_train_dataset = tf.placeholder(\n",
    "    tf.float32, shape=(batch_size, image_size, image_size, num_channels))\n",
    "  tf_train_labels = tf.placeholder(tf.float32, shape=(batch_size, num_labels))\n",
    "  tf_valid_dataset = tf.constant(valid_dataset)\n",
    "  tf_test_dataset = tf.constant(test_dataset)\n",
    "  \n",
    "  # Variables.\n",
    "  layer1_weights = tf.Variable(tf.truncated_normal(\n",
    "      [patch_size, patch_size, num_channels, depth], stddev=0.1))\n",
    "  layer1_biases = tf.Variable(tf.zeros([depth]))\n",
    "  layer2_weights = tf.Variable(tf.truncated_normal(\n",
    "      [patch_size, patch_size, depth, depth], stddev=0.1))\n",
    "  layer2_biases = tf.Variable(tf.constant(1.0, shape=[depth]))\n",
    "  layer3_weights = tf.Variable(tf.truncated_normal(\n",
    "      [image_size // 4 * image_size // 4 * depth, num_hidden], stddev=0.1))\n",
    "  layer3_biases = tf.Variable(tf.constant(1.0, shape=[num_hidden]))\n",
    "  layer4_weights = tf.Variable(tf.truncated_normal(\n",
    "      [num_hidden, num_labels], stddev=0.1))\n",
    "  layer4_biases = tf.Variable(tf.constant(1.0, shape=[num_labels]))\n",
    "  \n",
    "  # Model.\n",
    "  def model(data):\n",
    "    conv = tf.nn.conv2d(data, layer1_weights, [1, 2, 2, 1], padding='SAME')\n",
    "    hidden = tf.nn.relu(conv + layer1_biases)\n",
    "    conv = tf.nn.conv2d(hidden, layer2_weights, [1, 2, 2, 1], padding='SAME')\n",
    "    hidden = tf.nn.relu(conv + layer2_biases)\n",
    "    shape = hidden.get_shape().as_list()\n",
    "    reshape = tf.reshape(hidden, [shape[0], shape[1] * shape[2] * shape[3]])\n",
    "    hidden = tf.nn.relu(tf.matmul(reshape, layer3_weights) + layer3_biases)\n",
    "    return tf.matmul(hidden, layer4_weights) + layer4_biases\n",
    "  \n",
    "  # Training computation.\n",
    "  logits = model(tf_train_dataset)\n",
    "  loss = tf.reduce_mean(\n",
    "    tf.nn.softmax_cross_entropy_with_logits(logits, tf_train_labels))\n",
    "    \n",
    "  # Optimizer.\n",
    "  optimizer = tf.train.GradientDescentOptimizer(0.05).minimize(loss)\n",
    "  \n",
    "  # Predictions for the training, validation, and test data.\n",
    "  train_prediction = tf.nn.softmax(logits)\n",
    "  valid_prediction = tf.nn.softmax(model(tf_valid_dataset))\n",
    "  test_prediction = tf.nn.softmax(model(tf_test_dataset))"
   ]
  },
  {
   "cell_type": "code",
   "execution_count": 6,
   "metadata": {
    "cellView": "both",
    "colab": {
     "autoexec": {
      "startup": false,
      "wait_interval": 0
     },
     "output_extras": [
      {
       "item_id": 37
      }
     ]
    },
    "colab_type": "code",
    "collapsed": false,
    "deletable": true,
    "editable": true,
    "executionInfo": {
     "elapsed": 63292,
     "status": "ok",
     "timestamp": 1446658966251,
     "user": {
      "color": "",
      "displayName": "",
      "isAnonymous": false,
      "isMe": true,
      "permissionId": "",
      "photoUrl": "",
      "sessionId": "0",
      "userId": ""
     },
     "user_tz": 480
    },
    "id": "noKFb2UovVFR",
    "outputId": "28941338-2ef9-4088-8bd1-44295661e628"
   },
   "outputs": [
    {
     "name": "stdout",
     "output_type": "stream",
     "text": [
      "Initialized\n",
      "Minibatch loss at step 0: 2.547459\n",
      "Minibatch accuracy: 6.2%\n",
      "Validation accuracy: 10.0%\n",
      "Minibatch loss at step 50: 1.998490\n",
      "Minibatch accuracy: 18.8%\n",
      "Validation accuracy: 28.5%\n",
      "Minibatch loss at step 100: 1.177609\n",
      "Minibatch accuracy: 56.2%\n",
      "Validation accuracy: 68.7%\n",
      "Minibatch loss at step 150: 0.437632\n",
      "Minibatch accuracy: 87.5%\n",
      "Validation accuracy: 75.5%\n",
      "Minibatch loss at step 200: 0.829733\n",
      "Minibatch accuracy: 75.0%\n",
      "Validation accuracy: 78.3%\n",
      "Minibatch loss at step 250: 1.186727\n",
      "Minibatch accuracy: 68.8%\n",
      "Validation accuracy: 77.9%\n",
      "Minibatch loss at step 300: 0.357657\n",
      "Minibatch accuracy: 87.5%\n",
      "Validation accuracy: 79.5%\n",
      "Minibatch loss at step 350: 0.596358\n",
      "Minibatch accuracy: 93.8%\n",
      "Validation accuracy: 76.5%\n",
      "Minibatch loss at step 400: 0.319524\n",
      "Minibatch accuracy: 93.8%\n",
      "Validation accuracy: 80.0%\n",
      "Minibatch loss at step 450: 0.982719\n",
      "Minibatch accuracy: 81.2%\n",
      "Validation accuracy: 79.0%\n",
      "Minibatch loss at step 500: 0.628628\n",
      "Minibatch accuracy: 87.5%\n",
      "Validation accuracy: 81.1%\n",
      "Minibatch loss at step 550: 0.871677\n",
      "Minibatch accuracy: 75.0%\n",
      "Validation accuracy: 81.3%\n",
      "Minibatch loss at step 600: 0.348455\n",
      "Minibatch accuracy: 87.5%\n",
      "Validation accuracy: 81.7%\n",
      "Minibatch loss at step 650: 1.104773\n",
      "Minibatch accuracy: 75.0%\n",
      "Validation accuracy: 81.7%\n",
      "Minibatch loss at step 700: 0.942860\n",
      "Minibatch accuracy: 62.5%\n",
      "Validation accuracy: 81.5%\n",
      "Minibatch loss at step 750: 0.053881\n",
      "Minibatch accuracy: 100.0%\n",
      "Validation accuracy: 82.5%\n",
      "Minibatch loss at step 800: 0.619649\n",
      "Minibatch accuracy: 81.2%\n",
      "Validation accuracy: 82.5%\n",
      "Minibatch loss at step 850: 0.927792\n",
      "Minibatch accuracy: 75.0%\n",
      "Validation accuracy: 81.5%\n",
      "Minibatch loss at step 900: 0.401293\n",
      "Minibatch accuracy: 93.8%\n",
      "Validation accuracy: 83.1%\n",
      "Minibatch loss at step 950: 0.657017\n",
      "Minibatch accuracy: 87.5%\n",
      "Validation accuracy: 83.1%\n",
      "Minibatch loss at step 1000: 0.507636\n",
      "Minibatch accuracy: 87.5%\n",
      "Validation accuracy: 82.3%\n",
      "Test accuracy: 89.5%\n"
     ]
    }
   ],
   "source": [
    "num_steps = 1001\n",
    "\n",
    "with tf.Session(graph=graph) as session:\n",
    "  tf.initialize_all_variables().run()\n",
    "  print('Initialized')\n",
    "  for step in range(num_steps):\n",
    "    offset = (step * batch_size) % (train_labels.shape[0] - batch_size)\n",
    "    batch_data = train_dataset[offset:(offset + batch_size), :, :, :]\n",
    "    batch_labels = train_labels[offset:(offset + batch_size), :]\n",
    "    feed_dict = {tf_train_dataset : batch_data, tf_train_labels : batch_labels}\n",
    "    _, l, predictions = session.run(\n",
    "      [optimizer, loss, train_prediction], feed_dict=feed_dict)\n",
    "    if (step % 50 == 0):\n",
    "      print('Minibatch loss at step %d: %f' % (step, l))\n",
    "      print('Minibatch accuracy: %.1f%%' % accuracy(predictions, batch_labels))\n",
    "      print('Validation accuracy: %.1f%%' % accuracy(\n",
    "        valid_prediction.eval(), valid_labels))\n",
    "  print('Test accuracy: %.1f%%' % accuracy(test_prediction.eval(), test_labels))"
   ]
  },
  {
   "cell_type": "markdown",
   "metadata": {
    "colab_type": "text",
    "deletable": true,
    "editable": true,
    "id": "KedKkn4EutIK"
   },
   "source": [
    "---\n",
    "Problem 1\n",
    "---------\n",
    "\n",
    "The convolutional model above uses convolutions with stride 2 to reduce the dimensionality. Replace the strides by a max pooling operation (`nn.max_pool()`) of stride 2 and kernel size 2.\n",
    "\n",
    "---"
   ]
  },
  {
   "cell_type": "code",
   "execution_count": null,
   "metadata": {
    "collapsed": true,
    "deletable": true,
    "editable": true
   },
   "outputs": [],
   "source": [
    "tf.nn.max_pool(value, ksize, strides, padding, data_format='NHWC', name=None)\n"
   ]
  },
  {
   "cell_type": "markdown",
   "metadata": {
    "deletable": true,
    "editable": true
   },
   "source": [
    "<h2>Tensorflow specific calculations</h2>\n",
    "\n",
    "<h3>max_pool</h3>\n",
    "    - ksizes= size of the window applied for each dimension ([batch, height, width, channels] in case of NHWC data format)\n",
    "\n",
    "\n",
    "<h3>conv2d function</h3>\n",
    "   - strides: should be list of 4. Must have strides[0] = strides[3] = 1. For the most common case of the same horizontal and vertices strides, strides = [1, stride, stride, 1].\n",
    "   - padding rules: http://stackoverflow.com/questions/34619177/what-does-tf-nn-conv2d-do-in-tensorflow\n",
    "       - For the 'SAME' padding, the output height and width are computed as:\n",
    "\n",
    "            out_height = ceil(float(in_height) / float(strides[1]))\n",
    "            out_width  = ceil(float(in_width) / float(strides[2]))\n",
    "            and the padding on the top and left are computed as:\n",
    "\n",
    "            pad_along_height = ((out_height - 1) * strides[1] +filter_height - in_height)\n",
    "            pad_along_width = ((out_width - 1) * strides[2] +filter_width - in_width)\n",
    "            pad_top = pad_along_height / 2\n",
    "            pad_left = pad_along_width / 2\n",
    "\n",
    "\n",
    "\n",
    "        - For the 'VALID' padding, the output height and width are computed as:\n",
    "\n",
    "        out_height = ceil(float(in_height - filter_height + 1) / float(strides[1]))\n",
    "        out_width  = ceil(float(in_width - filter_width + 1) / float(strides[2]))\n",
    "        and the padding values are always zero. The output is then computed as\n",
    "\n",
    "        output[b, i, j, :] =\n",
    "            sum_{di, dj} input[b, strides[1] * i + di - pad_top,\n",
    "                               strides[2] * j + dj - pad_left, ...] *\n",
    "                         filter[di, dj, ...]\n",
    "    \n",
    "    "
   ]
  },
  {
   "cell_type": "markdown",
   "metadata": {
    "deletable": true,
    "editable": true
   },
   "source": [
    "<b>Typical network design:</b>\n",
    "- INPUT -> [[CONV -> RELU]*N -> POOL?]*M -> [FC -> RELU]*K -> FC\n",
    "\n",
    "where the * indicates repetition, and the POOL? indicates an optional pooling layer. Moreover, N >= 0 (and usually N <= 3), M >= 0, K >= 0 (and usually K < 3). \n",
    "\n",
    "For example, here are some common ConvNet architectures you may see that follow this pattern:\n",
    "- INPUT -> FC, implements a linear classifier. Here N = M = K = 0.\n",
    "- INPUT -> CONV -> RELU -> FC\n",
    "- INPUT -> [CONV -> RELU -> POOL]*2 -> FC -> RELU -> FC. Here we see that there is a single CONV layer between every POOL layer.\n",
    "- INPUT -> [CONV -> RELU -> CONV -> RELU -> POOL]*3 -> [FC -> RELU]*2 -> FC Here we see two CONV layers stacked before every POOL layer. This is generally a good idea for larger and deeper networks, because multiple stacked CONV layers can develop more complex features of the input volume before the destructive pooling operation."
   ]
  },
  {
   "cell_type": "code",
   "execution_count": 13,
   "metadata": {
    "collapsed": false,
    "deletable": true,
    "editable": true,
    "scrolled": true
   },
   "outputs": [],
   "source": [
    "batch_size = 64\n",
    "patch_size = 5\n",
    "depth = 16\n",
    "num_hidden = 64\n",
    "learning_rate=0.05\n",
    "\n",
    "conv_stride=1\n",
    "maxpool_ksize=2\n",
    "maxpool_stride=2\n",
    "maxpool_padding='VALID'\n",
    "\n",
    "\n",
    "\n",
    "graph = tf.Graph()\n",
    "\n",
    "with graph.as_default():\n",
    "    \n",
    "    # learning rate\n",
    "    learning_rate=0.1\n",
    "    decay_rate=0.9\n",
    "    decay_steps=1000\n",
    "    global_step = tf.Variable(0)  # count the number of steps taken.\n",
    "    decayed_learning_rate = tf.train.exponential_decay(learning_rate=learning_rate, global_step=global_step, \n",
    "                                                   decay_steps=decay_steps, decay_rate=decay_rate, staircase=True )\n",
    "\n",
    "\n",
    "    # Input data.\n",
    "    tf_train_dataset = tf.placeholder(tf.float32, shape=(batch_size, image_size, image_size, num_channels))\n",
    "    tf_train_labels = tf.placeholder(tf.float32, shape=(batch_size, num_labels))\n",
    "    tf_valid_dataset = tf.constant(valid_dataset)\n",
    "    tf_test_dataset = tf.constant(test_dataset)\n",
    "  \n",
    "    # Variables.\n",
    "    layer1_weights = tf.Variable(tf.truncated_normal([patch_size, patch_size, num_channels, depth], stddev=0.1))\n",
    "    layer1_biases = tf.Variable(tf.zeros([depth]))\n",
    "    layer2_weights = tf.Variable(tf.truncated_normal([patch_size, patch_size, depth, depth], stddev=0.1))\n",
    "    layer2_biases = tf.Variable(tf.constant(1.0, shape=[depth]))\n",
    "    layer3_weights = tf.Variable(tf.truncated_normal([image_size // 4 * image_size // 4 * depth, num_hidden], stddev=0.1))\n",
    "    layer3_biases = tf.Variable(tf.constant(1.0, shape=[num_hidden]))\n",
    "    layer4_weights = tf.Variable(tf.truncated_normal([num_hidden, num_labels], stddev=0.1))\n",
    "    layer4_biases = tf.Variable(tf.constant(1.0, shape=[num_labels]))\n",
    "  \n",
    "    # Model.\n",
    "    def model_2(data):\n",
    "        #print(\"initial data shape:%s\"%data.get_shape().as_list())\n",
    "        conv = tf.nn.conv2d(data, layer1_weights, [1, conv_stride, conv_stride, 1], padding='SAME')\n",
    "        hidden = tf.nn.relu(conv + layer1_biases)\n",
    "        #print(\"shape after first conv:%s\"%hidden.get_shape().as_list())\n",
    "        maxpool=tf.nn.max_pool(hidden,ksize=[1, maxpool_ksize, maxpool_ksize, 1], \n",
    "                               strides=[1, maxpool_stride, maxpool_stride, 1], padding=maxpool_padding)\n",
    "        #print(\"shape after first max pool:%s\"%maxpool.get_shape().as_list())\n",
    "        conv = tf.nn.conv2d(maxpool, layer2_weights, [1, conv_stride, conv_stride, 1], padding='SAME')\n",
    "        hidden = tf.nn.relu(conv + layer2_biases)\n",
    "        #print(\"shape after second conv:%s\"%hidden.get_shape().as_list())\n",
    "        maxpool=tf.nn.max_pool(hidden,ksize=[1, maxpool_ksize, maxpool_ksize, 1], \n",
    "                               strides=[1, maxpool_stride, maxpool_stride, 1], padding=maxpool_padding)\n",
    "        #print(\"shape after second max pool:%s\"%maxpool.get_shape().as_list())\n",
    "        shape = maxpool.get_shape().as_list()\n",
    "        #print(\"shape before flattening:%s\"%shape)\n",
    "        #print(\"shape of weights on layer 3 (outdated):%s\"%layer3_weights.get_shape().as_list())\n",
    "        reshape = tf.reshape(maxpool, [shape[0], shape[1] * shape[2] * shape[3]])\n",
    "        #print(\"current shape after pooling and flattening:%s\"% reshape.get_shape().as_list())\n",
    "        hidden = tf.nn.relu(tf.matmul(reshape, layer3_weights) + layer3_biases)\n",
    "        return tf.matmul(hidden, layer4_weights) + layer4_biases\n",
    "  \n",
    "  # Training computation.\n",
    "    logits = model_2(tf_train_dataset)\n",
    "    loss = tf.reduce_mean(tf.nn.softmax_cross_entropy_with_logits(logits, tf_train_labels))\n",
    "    \n",
    "    # Optimizer.\n",
    "    optimizer = tf.train.GradientDescentOptimizer(learning_rate=decayed_learning_rate).minimize(loss,global_step=global_step)\n",
    "  \n",
    "    # Predictions for the training, validation, and test data.\n",
    "    train_prediction = tf.nn.softmax(logits)\n",
    "    valid_prediction = tf.nn.softmax(model_2(tf_valid_dataset))\n",
    "    test_prediction = tf.nn.softmax(model_2(tf_test_dataset))"
   ]
  },
  {
   "cell_type": "code",
   "execution_count": 15,
   "metadata": {
    "collapsed": false,
    "deletable": true,
    "editable": true
   },
   "outputs": [
    {
     "name": "stdout",
     "output_type": "stream",
     "text": [
      "Initialized\n",
      "Minibatch loss at step 0: 3.490494\n",
      "Minibatch loss at step 100: 0.597300\n",
      "Minibatch loss at step 200: 0.550167\n",
      "Minibatch loss at step 300: 0.737959\n",
      "Minibatch loss at step 400: 0.789963\n",
      "Minibatch loss at step 500: 0.332572\n",
      "Minibatch loss at step 600: 0.646374\n",
      "Minibatch loss at step 700: 0.394580\n",
      "Minibatch loss at step 800: 0.431072\n",
      "Minibatch loss at step 900: 0.418344\n",
      "Minibatch loss at step 1000: 0.347720\n",
      "Minibatch loss at step 1100: 0.772137\n",
      "Minibatch loss at step 1200: 0.327528\n",
      "Minibatch loss at step 1300: 0.255002\n",
      "Minibatch loss at step 1400: 0.521635\n",
      "Minibatch loss at step 1500: 0.409179\n",
      "Minibatch loss at step 1600: 0.147394\n",
      "Minibatch loss at step 1700: 0.431296\n",
      "Minibatch loss at step 1800: 0.385664\n",
      "Minibatch loss at step 1900: 0.405382\n",
      "Test accuracy: 93.9%\n"
     ]
    },
    {
     "data": {
      "image/png": "[encoded data removed]",
      "text/plain": [
       "<matplotlib.figure.Figure at 0x14afe3090>"
      ]
     },
     "metadata": {},
     "output_type": "display_data"
    },
    {
     "data": {
      "image/png": "[encoded data removed]",
      "text/plain": [
       "<matplotlib.figure.Figure at 0x14afe3350>"
      ]
     },
     "metadata": {},
     "output_type": "display_data"
    }
   ],
   "source": [
    "num_steps = 2000\n",
    "lc=learningCurve()\n",
    "\n",
    "with tf.Session(graph=graph) as session:\n",
    "    tf.initialize_all_variables().run()\n",
    "    print('Initialized')\n",
    "    for step in range(num_steps):\n",
    "        offset = (step * batch_size) % (train_labels.shape[0] - batch_size)\n",
    "        batch_data = train_dataset[offset:(offset + batch_size), :, :, :]\n",
    "        batch_labels = train_labels[offset:(offset + batch_size), :]\n",
    "        feed_dict = {tf_train_dataset : batch_data, tf_train_labels : batch_labels}\n",
    "        _, l, predictions = session.run(\n",
    "          [optimizer, loss, train_prediction], feed_dict=feed_dict)\n",
    "        current_epoch=offset/20000\n",
    "        \n",
    "        #collect loss for every step\n",
    "        lc.append_loss(l,current_epoch,step)\n",
    "\n",
    "        if (step % 100 == 0):\n",
    "            #collect accuracies for every other step\n",
    "            train_accuracy=accuracy(predictions, batch_labels)\n",
    "            valid_accuracy=accuracy(valid_prediction.eval(), valid_labels)\n",
    "            lc.append_accuracy(train_accuracy,valid_accuracy,current_epoch,step)\n",
    "            print('Minibatch loss at step %d: %f' % (step, l))\n",
    "            #print('Minibatch accuracy: %.1f%%' % train_accuracy)\n",
    "            #print('Validation accuracy: %.1f%%' % valid_accuracy)\n",
    "    print('Test accuracy: %.1f%%' % accuracy(test_prediction.eval(), test_labels))\n",
    "\n",
    "lc.plot_loss_curve()\n",
    "lc.plot_accuracy_curve()"
   ]
  },
  {
   "cell_type": "markdown",
   "metadata": {
    "deletable": true,
    "editable": true
   },
   "source": [
    "Different variations of of the parameters:\n",
    "- learning rate = 0.05, accuracy is 90.6%\n",
    "- learning rate = 0.5, accuracy is 10%\n",
    "- learning rate=0.01, numsteps =10001, accuracy is 93.5%\n",
    "- learning rate=0.05, batch size=64, numsteps=100001, accuracy = 95.3%"
   ]
  },
  {
   "cell_type": "code",
   "execution_count": 11,
   "metadata": {
    "collapsed": false,
    "deletable": true,
    "editable": true
   },
   "outputs": [
    {
     "data": {
      "image/png": "[encoded data removed]",
      "text/plain": [
       "<matplotlib.figure.Figure at 0x1404086d0>"
      ]
     },
     "metadata": {},
     "output_type": "display_data"
    },
    {
     "data": {
      "image/png": "[encoded data removed]",
      "text/plain": [
       "<matplotlib.figure.Figure at 0x14af53190>"
      ]
     },
     "metadata": {},
     "output_type": "display_data"
    }
   ],
   "source": [
    "# A set of functions for baby-sitting of NN learning.\n",
    "import matplotlib.pyplot as plt\n",
    "%matplotlib inline\n",
    "\n",
    "class learningCurve:\n",
    "    \n",
    "    def __init__(self):\n",
    "        #accumulator for accuracy data\n",
    "        self.acc_data = {}\n",
    "        self.acc_data[\"train_accuracy\"]=[]\n",
    "        self.acc_data[\"valid_accuracy\"]=[]\n",
    "        self.acc_data[\"epoch\"]=[]\n",
    "        self.acc_data[\"iteration\"]=[]\n",
    "\n",
    "        #accumulator for loss data        \n",
    "        self.loss_data={}\n",
    "        self.loss_data[\"loss\"]=[]\n",
    "        self.loss_data[\"epoch\"]=[]\n",
    "        self.loss_data[\"iteration\"]=[]\n",
    "        \n",
    "    def append_accuracy(self,train_accuracy,valid_accuracy,epoch,iteration):\n",
    "        self.acc_data[\"train_accuracy\"].append(train_accuracy)\n",
    "        self.acc_data[\"valid_accuracy\"].append(valid_accuracy)\n",
    "        self.acc_data[\"epoch\"].append(epoch)\n",
    "        self.acc_data[\"iteration\"].append(iteration)\n",
    "        \n",
    "    def append_loss(self,loss,epoch,iteration):\n",
    "        self.loss_data[\"loss\"].append(loss)\n",
    "        self.loss_data[\"epoch\"].append(epoch)\n",
    "        self.loss_data[\"iteration\"].append(iteration)        \n",
    "        \n",
    "        \n",
    "    def plot_accuracy_curve(self,print_train=True,print_valid=True):\n",
    "        # Create plots with pre-defined labels.\n",
    "        if print_train:\n",
    "            plt.plot(self.acc_data[\"iteration\"], self.acc_data[\"train_accuracy\"], 'k', label='Train accuracy')\n",
    "            \n",
    "        if print_valid:\n",
    "            plt.plot(self.acc_data[\"iteration\"], self.acc_data[\"valid_accuracy\"], 'k--',  label='Valid accuracy')\n",
    "            \n",
    "        \n",
    "        legend = plt.legend(loc='lower center', shadow=True, fontsize='large')\n",
    "        legend.get_frame().set_facecolor('#00FFCC')\n",
    "\n",
    "        plt.show()\n",
    "    \n",
    "    def plot_loss_curve(self):\n",
    "        plt.plot(self.loss_data[\"iteration\"], self.loss_data[\"loss\"], 'k', label='Train loss')\n",
    "        legend = plt.legend(loc='upper center', shadow=True, fontsize='large')\n",
    "        legend.get_frame().set_facecolor('#00FFCC')\n",
    "\n",
    "        plt.show()\n",
    "    \n",
    "    def clear_all(self):\n",
    "        self.acc_data={}\n",
    "        self.loss_data={}\n",
    "            \n",
    "\n",
    "\n",
    "lc_test=learningCurve()\n",
    "lc_test.append_loss(1.0,2.0,3.0)\n",
    "lc_test.append_loss(2.0,3.0,4.0)\n",
    "lc_test.append_loss(1.0,4.0,5.0)\n",
    "lc_test.plot_loss_curve()\n",
    "\n",
    "lc_test.append_accuracy(1.0,2.0,3.0,1.0)\n",
    "lc_test.append_accuracy(2.0,3.0,4.0,1.0)\n",
    "lc_test.append_accuracy(1.0,4.0,5.0,1.0)\n",
    "lc_test.plot_accuracy_curve()\n",
    "    "
   ]
  },
  {
   "cell_type": "markdown",
   "metadata": {
    "colab_type": "text",
    "deletable": true,
    "editable": true,
    "id": "klf21gpbAgb-"
   },
   "source": [
    "---\n",
    "Problem 2\n",
    "---------\n",
    "\n",
    "Try to get the best performance you can using a convolutional net. Look for example at the classic [LeNet5](http://yann.lecun.com/exdb/lenet/) architecture, adding Dropout, and/or adding learning rate decay.\n",
    "\n",
    "---"
   ]
  },
  {
   "cell_type": "code",
   "execution_count": null,
   "metadata": {
    "collapsed": true,
    "deletable": true,
    "editable": true
   },
   "outputs": [],
   "source": []
  }
 ],
 "metadata": {
  "colab": {
   "default_view": {},
   "name": "4_convolutions.ipynb",
   "provenance": [],
   "version": "0.3.2",
   "views": {}
  },
  "kernelspec": {
   "display_name": "Python 2",
   "language": "python",
   "name": "python2"
  },
  "language_info": {
   "codemirror_mode": {
    "name": "ipython",
    "version": 2
   },
   "file_extension": ".py",
   "mimetype": "text/x-python",
   "name": "python",
   "nbconvert_exporter": "python",
   "pygments_lexer": "ipython2",
   "version": "2.7.13"
  }
 },
 "nbformat": 4,
 "nbformat_minor": 0
}
