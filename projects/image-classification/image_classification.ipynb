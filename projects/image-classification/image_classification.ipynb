{
 "cells": [
  {
   "cell_type": "markdown",
   "metadata": {
    "collapsed": true
   },
   "source": [
    "# Image Classification\n",
    "In this project, you'll classify images from the [CIFAR-10 dataset](https://www.cs.toronto.edu/~kriz/cifar.html).  The dataset consists of airplanes, dogs, cats, and other objects. You'll preprocess the images, then train a convolutional neural network on all the samples. The images need to be normalized and the labels need to be one-hot encoded.  You'll get to apply what you learned and build a convolutional, max pooling, dropout, and fully connected layers.  At the end, you'll get to see your neural network's predictions on the sample images.\n",
    "## Get the Data\n",
    "Run the following cell to download the [CIFAR-10 dataset for python](https://www.cs.toronto.edu/~kriz/cifar-10-python.tar.gz)."
   ]
  },
  {
   "cell_type": "code",
   "execution_count": 42,
   "metadata": {},
   "outputs": [
    {
     "name": "stdout",
     "output_type": "stream",
     "text": [
      "All files found!\n"
     ]
    }
   ],
   "source": [
    "\"\"\"\n",
    "DON'T MODIFY ANYTHING IN THIS CELL THAT IS BELOW THIS LINE\n",
    "\"\"\"\n",
    "from urllib.request import urlretrieve\n",
    "from os.path import isfile, isdir\n",
    "from tqdm import tqdm\n",
    "import problem_unittests as tests\n",
    "import tarfile\n",
    "\n",
    "cifar10_dataset_folder_path = 'cifar-10-batches-py'\n",
    "\n",
    "class DLProgress(tqdm):\n",
    "    last_block = 0\n",
    "\n",
    "    def hook(self, block_num=1, block_size=1, total_size=None):\n",
    "        self.total = total_size\n",
    "        self.update((block_num - self.last_block) * block_size)\n",
    "        self.last_block = block_num\n",
    "\n",
    "if not isfile('cifar-10-python.tar.gz'):\n",
    "    with DLProgress(unit='B', unit_scale=True, miniters=1, desc='CIFAR-10 Dataset') as pbar:\n",
    "        urlretrieve(\n",
    "            'https://www.cs.toronto.edu/~kriz/cifar-10-python.tar.gz',\n",
    "            'cifar-10-python.tar.gz',\n",
    "            pbar.hook)\n",
    "\n",
    "if not isdir(cifar10_dataset_folder_path):\n",
    "    with tarfile.open('cifar-10-python.tar.gz') as tar:\n",
    "        tar.extractall()\n",
    "        tar.close()\n",
    "\n",
    "\n",
    "tests.test_folder_path(cifar10_dataset_folder_path)"
   ]
  },
  {
   "cell_type": "markdown",
   "metadata": {},
   "source": [
    "## Explore the Data\n",
    "The dataset is broken into batches to prevent your machine from running out of memory.  The CIFAR-10 dataset consists of 5 batches, named `data_batch_1`, `data_batch_2`, etc.. Each batch contains the labels and images that are one of the following:\n",
    "* airplane\n",
    "* automobile\n",
    "* bird\n",
    "* cat\n",
    "* deer\n",
    "* dog\n",
    "* frog\n",
    "* horse\n",
    "* ship\n",
    "* truck\n",
    "\n",
    "Understanding a dataset is part of making predictions on the data.  Play around with the code cell below by changing the `batch_id` and `sample_id`. The `batch_id` is the id for a batch (1-5). The `sample_id` is the id for a image and label pair in the batch.\n",
    "\n",
    "Ask yourself \"What are all possible labels?\", \"What is the range of values for the image data?\", \"Are the labels in order or random?\".  Answers to questions like these will help you preprocess the data and end up with better predictions."
   ]
  },
  {
   "cell_type": "code",
   "execution_count": 43,
   "metadata": {},
   "outputs": [
    {
     "name": "stdout",
     "output_type": "stream",
     "text": [
      "\n",
      "Stats of batch 4:\n",
      "Samples: 10000\n",
      "Label Counts: {0: 1003, 1: 963, 2: 1041, 3: 976, 4: 1004, 5: 1021, 6: 1004, 7: 981, 8: 1024, 9: 983}\n",
      "First 20 Labels: [0, 6, 0, 2, 7, 2, 1, 2, 4, 1, 5, 6, 6, 3, 1, 3, 5, 5, 8, 1]\n",
      "\n",
      "Example of Image 10:\n",
      "Image - Min Value: 44 Max Value: 246\n",
      "Image - Shape: (32, 32, 3)\n",
      "Label - Label Id: 5 Name: dog\n"
     ]
    },
    {
     "data": {
      "image/png": "[encoded data removed]",
      "text/plain": [
       "<matplotlib.figure.Figure at 0x117a6e358>"
      ]
     },
     "metadata": {
      "image/png": {
       "height": 250,
       "width": 253
      }
     },
     "output_type": "display_data"
    }
   ],
   "source": [
    "%matplotlib inline\n",
    "%config InlineBackend.figure_format = 'retina'\n",
    "\n",
    "import helper\n",
    "import numpy as np\n",
    "\n",
    "# Explore the dataset\n",
    "batch_id = 4\n",
    "sample_id = 10\n",
    "helper.display_stats(cifar10_dataset_folder_path, batch_id, sample_id)"
   ]
  },
  {
   "cell_type": "markdown",
   "metadata": {},
   "source": [
    "Data set info:\n",
    "- image shape (32, 32, 3)\n",
    "- min value - 0; max value - 255;\n",
    "- each batch contain 10k images|\n"
   ]
  },
  {
   "cell_type": "markdown",
   "metadata": {},
   "source": [
    "## Implement Preprocess Functions\n",
    "### Normalize\n",
    "In the cell below, implement the `normalize` function to take in image data, `x`, and return it as a normalized Numpy array. The values should be in the range of 0 to 1, inclusive.  The return object should be the same shape as `x`."
   ]
  },
  {
   "cell_type": "code",
   "execution_count": 45,
   "metadata": {},
   "outputs": [
    {
     "name": "stdout",
     "output_type": "stream",
     "text": [
      "Tests Passed\n"
     ]
    }
   ],
   "source": [
    "def normalize(x):\n",
    "    \"\"\"\n",
    "    Normalize a list of sample image data in the range of 0 to 1\n",
    "    : x: List of image data.  The image shape is (32, 32, 3)\n",
    "    : return: Numpy array of normalize data\n",
    "    \"\"\"\n",
    "    x_size = x.shape\n",
    "    x_norm = np.zeros(x_size)\n",
    "    for image_id in range(x_size[0]):\n",
    "        x_norm[image_id,:,:,:] = (x[image_id,:,:,:] - np.amin(x[image_id,:,:,:]))/(np.amax(x[image_id,:,:,:]) - np.amin(x[image_id,:,:,:]))\n",
    "    return x_norm\n",
    "\n",
    "\n",
    "\"\"\"\n",
    "DON'T MODIFY ANYTHING IN THIS CELL THAT IS BELOW THIS LINE\n",
    "\"\"\"\n",
    "tests.test_normalize(normalize)"
   ]
  },
  {
   "cell_type": "markdown",
   "metadata": {},
   "source": [
    "### One-hot encode\n",
    "Just like the previous code cell, you'll be implementing a function for preprocessing.  This time, you'll implement the `one_hot_encode` function. The input, `x`, are a list of labels.  Implement the function to return the list of labels as One-Hot encoded Numpy array.  The possible values for labels are 0 to 9. The one-hot encoding function should return the same encoding for each value between each call to `one_hot_encode`.  Make sure to save the map of encodings outside the function.\n",
    "\n",
    "**Hint:**\n",
    "\n",
    "Look into LabelBinarizer in the preprocessing module of sklearn."
   ]
  },
  {
   "cell_type": "code",
   "execution_count": 5,
   "metadata": {},
   "outputs": [
    {
     "name": "stdout",
     "output_type": "stream",
     "text": [
      "Tests Passed\n"
     ]
    }
   ],
   "source": [
    "import problem_unittests as tests\n",
    "import numpy as np\n",
    "\n",
    "def one_hot_encode(x):\n",
    "    \"\"\"\n",
    "    One hot encode a list of sample labels. Return a one-hot encoded vector for each label.\n",
    "    : x: List of sample Labels\n",
    "    : return: Numpy array of one-hot encoded labels\n",
    "    \"\"\"\n",
    "    nb_classes = 10\n",
    "    one_hot = np.zeros((len(x),nb_classes))\n",
    "    \n",
    "    for i, label in enumerate(x):\n",
    "        one_hot[i][int(label)]=1\n",
    "    return one_hot\n",
    "\n",
    "\n",
    "\"\"\"\n",
    "DON'T MODIFY ANYTHING IN THIS CELL THAT IS BELOW THIS LINE\n",
    "\"\"\"\n",
    "tests.test_one_hot_encode(one_hot_encode)"
   ]
  },
  {
   "cell_type": "markdown",
   "metadata": {},
   "source": [
    "### Randomize Data\n",
    "As you saw from exploring the data above, the order of the samples are randomized.  It doesn't hurt to randomize it again, but you don't need to for this dataset."
   ]
  },
  {
   "cell_type": "markdown",
   "metadata": {},
   "source": [
    "## Preprocess all the data and save it\n",
    "Running the code cell below will preprocess all the CIFAR-10 data and save it to file. The code below also uses 10% of the training data for validation."
   ]
  },
  {
   "cell_type": "code",
   "execution_count": 34,
   "metadata": {
    "collapsed": true
   },
   "outputs": [],
   "source": [
    "\"\"\"\n",
    "DON'T MODIFY ANYTHING IN THIS CELL\n",
    "\"\"\"\n",
    "# Preprocess Training, Validation, and Testing Data\n",
    "helper.preprocess_and_save_data(cifar10_dataset_folder_path, normalize, one_hot_encode)"
   ]
  },
  {
   "cell_type": "markdown",
   "metadata": {},
   "source": [
    "# Check Point\n",
    "This is your first checkpoint.  If you ever decide to come back to this notebook or have to restart the notebook, you can start from here.  The preprocessed data has been saved to disk."
   ]
  },
  {
   "cell_type": "code",
   "execution_count": 35,
   "metadata": {
    "collapsed": true
   },
   "outputs": [],
   "source": [
    "\"\"\"\n",
    "DON'T MODIFY ANYTHING IN THIS CELL\n",
    "\"\"\"\n",
    "import pickle\n",
    "import problem_unittests as tests\n",
    "import helper\n",
    "\n",
    "# Load the Preprocessed Validation data\n",
    "valid_features, valid_labels = pickle.load(open('preprocess_validation.p', mode='rb'))"
   ]
  },
  {
   "cell_type": "markdown",
   "metadata": {},
   "source": [
    "## Build the network\n",
    "For the neural network, you'll build each layer into a function.  Most of the code you've seen has been outside of functions. To test your code more thoroughly, we require that you put each layer in a function.  This allows us to give you better feedback and test for simple mistakes using our unittests before you submit your project.\n",
    "\n",
    ">**Note:** If you're finding it hard to dedicate enough time for this course each week, we've provided a small shortcut to this part of the project. In the next couple of problems, you'll have the option to use classes from the [TensorFlow Layers](https://www.tensorflow.org/api_docs/python/tf/layers) or [TensorFlow Layers (contrib)](https://www.tensorflow.org/api_guides/python/contrib.layers) packages to build each layer, except the layers you build in the \"Convolutional and Max Pooling Layer\" section.  TF Layers is similar to Keras's and TFLearn's abstraction to layers, so it's easy to pickup.\n",
    "\n",
    ">However, if you would like to get the most out of this course, try to solve all the problems _without_ using anything from the TF Layers packages. You **can** still use classes from other packages that happen to have the same name as ones you find in TF Layers! For example, instead of using the TF Layers version of the `conv2d` class, [tf.layers.conv2d](https://www.tensorflow.org/api_docs/python/tf/layers/conv2d), you would want to use the TF Neural Network version of `conv2d`, [tf.nn.conv2d](https://www.tensorflow.org/api_docs/python/tf/nn/conv2d). \n",
    "\n",
    "Let's begin!\n",
    "\n",
    "### Input\n",
    "The neural network needs to read the image data, one-hot encoded labels, and dropout keep probability. Implement the following functions\n",
    "* Implement `neural_net_image_input`\n",
    " * Return a [TF Placeholder](https://www.tensorflow.org/api_docs/python/tf/placeholder)\n",
    " * Set the shape using `image_shape` with batch size set to `None`.\n",
    " * Name the TensorFlow placeholder \"x\" using the TensorFlow `name` parameter in the [TF Placeholder](https://www.tensorflow.org/api_docs/python/tf/placeholder).\n",
    "* Implement `neural_net_label_input`\n",
    " * Return a [TF Placeholder](https://www.tensorflow.org/api_docs/python/tf/placeholder)\n",
    " * Set the shape using `n_classes` with batch size set to `None`.\n",
    " * Name the TensorFlow placeholder \"y\" using the TensorFlow `name` parameter in the [TF Placeholder](https://www.tensorflow.org/api_docs/python/tf/placeholder).\n",
    "* Implement `neural_net_keep_prob_input`\n",
    " * Return a [TF Placeholder](https://www.tensorflow.org/api_docs/python/tf/placeholder) for dropout keep probability.\n",
    " * Name the TensorFlow placeholder \"keep_prob\" using the TensorFlow `name` parameter in the [TF Placeholder](https://www.tensorflow.org/api_docs/python/tf/placeholder).\n",
    "\n",
    "These names will be used at the end of the project to load your saved model.\n",
    "\n",
    "Note: `None` for shapes in TensorFlow allow for a dynamic size."
   ]
  },
  {
   "cell_type": "code",
   "execution_count": 8,
   "metadata": {},
   "outputs": [
    {
     "name": "stdout",
     "output_type": "stream",
     "text": [
      "Image Input Tests Passed.\n",
      "Label Input Tests Passed.\n",
      "Keep Prob Tests Passed.\n"
     ]
    }
   ],
   "source": [
    "import tensorflow as tf\n",
    "import problem_unittests as tests\n",
    "\n",
    "def neural_net_image_input(image_shape):\n",
    "    \"\"\"\n",
    "    Return a Tensor for a batch of image input\n",
    "    : image_shape: Shape of the images\n",
    "    : return: Tensor for image input.\n",
    "    \"\"\"\n",
    "    image_shape = list(image_shape)\n",
    "    image_shape = [None]+image_shape\n",
    "    X = tf.placeholder(dtype=tf.float32, shape=tuple(image_shape), name='x')\n",
    "    return X\n",
    "\n",
    "\n",
    "def neural_net_label_input(n_classes):\n",
    "    \"\"\"\n",
    "    Return a Tensor for a batch of label input\n",
    "    : n_classes: Number of classes\n",
    "    : return: Tensor for label input.\n",
    "    \"\"\"\n",
    "    label_shape = [None]\n",
    "    label_shape.append(n_classes)\n",
    "    Y = tf.placeholder(dtype=tf.float32, shape=tuple(label_shape), name='y')\n",
    "    return Y\n",
    "\n",
    "\n",
    "def neural_net_keep_prob_input():\n",
    "    \"\"\"\n",
    "    Return a Tensor for keep probability\n",
    "    : return: Tensor for keep probability.\n",
    "    \"\"\"\n",
    "    keep_prob = tf.placeholder(dtype=tf.float32, shape=None, name='keep_prob')\n",
    "    return keep_prob\n",
    "\n",
    "\n",
    "\"\"\"\n",
    "DON'T MODIFY ANYTHING IN THIS CELL THAT IS BELOW THIS LINE\n",
    "\"\"\"\n",
    "tf.reset_default_graph()\n",
    "tests.test_nn_image_inputs(neural_net_image_input)\n",
    "tests.test_nn_label_inputs(neural_net_label_input)\n",
    "tests.test_nn_keep_prob_inputs(neural_net_keep_prob_input)"
   ]
  },
  {
   "cell_type": "markdown",
   "metadata": {},
   "source": [
    "### Convolution and Max Pooling Layer\n",
    "Convolution layers have a lot of success with images. For this code cell, you should implement the function `conv2d_maxpool` to apply convolution then max pooling:\n",
    "* Create the weight and bias using `conv_ksize`, `conv_num_outputs` and the shape of `x_tensor`.\n",
    "* Apply a convolution to `x_tensor` using weight and `conv_strides`.\n",
    " * We recommend you use same padding, but you're welcome to use any padding.\n",
    "* Add bias\n",
    "* Add a nonlinear activation to the convolution.\n",
    "* Apply Max Pooling using `pool_ksize` and `pool_strides`.\n",
    " * We recommend you use same padding, but you're welcome to use any padding.\n",
    "\n",
    "**Note:** You **can't** use [TensorFlow Layers](https://www.tensorflow.org/api_docs/python/tf/layers) or [TensorFlow Layers (contrib)](https://www.tensorflow.org/api_guides/python/contrib.layers) for **this** layer, but you can still use TensorFlow's [Neural Network](https://www.tensorflow.org/api_docs/python/tf/nn) package. You may still use the shortcut option for all the **other** layers.\n",
    "\n",
    "** Hint: **\n",
    "\n",
    "When unpacking values as an argument in Python, look into the [unpacking](https://docs.python.org/3/tutorial/controlflow.html#unpacking-argument-lists) operator. "
   ]
  },
  {
   "cell_type": "code",
   "execution_count": 9,
   "metadata": {},
   "outputs": [
    {
     "name": "stdout",
     "output_type": "stream",
     "text": [
      "Tests Passed\n"
     ]
    }
   ],
   "source": [
    "def conv2d_maxpool(x_tensor, conv_num_outputs, conv_ksize, conv_strides, pool_ksize, pool_strides):\n",
    "    \"\"\"\n",
    "    Apply convolution then max pooling to x_tensor\n",
    "    :param x_tensor: TensorFlow Tensor\n",
    "    :param conv_num_outputs: Number of outputs for the convolutional layer\n",
    "    :param conv_ksize: kernal size 2-D Tuple for the convolutional layer\n",
    "    :param conv_strides: Stride 2-D Tuple for convolution\n",
    "    :param pool_ksize: kernal size 2-D Tuple for pool\n",
    "    :param pool_strides: Stride 2-D Tuple for pool\n",
    "    : return: A tensor that represents convolution and max pooling of x_tensor\n",
    "    \"\"\"\n",
    "    # TODO: Implement Function\n",
    "    \n",
    "    # basic parameters\n",
    "    batch_size, in_height, in_width, in_depth = x_tensor.get_shape().as_list()\n",
    "\n",
    "    #initiate filter\n",
    "    W = tf.Variable(tf.truncated_normal([conv_ksize[0], conv_ksize[1], in_depth, conv_num_outputs], stddev=0.1))\n",
    "    B = tf.Variable(tf.zeros([conv_num_outputs]))\n",
    "    \n",
    "    # convolutional layer.\n",
    "    conv_layer = tf.nn.conv2d(x_tensor,W,[1,conv_strides[0],conv_strides[1],1],padding = 'SAME')\n",
    "    conv_layer = tf.nn.bias_add(conv_layer, B)\n",
    "    conv_layer = tf.nn.relu(conv_layer)\n",
    "    max_pool = tf.nn.max_pool(conv_layer,[1,pool_ksize[0],pool_ksize[1],1],[1,pool_strides[0],pool_strides[1],1],padding='SAME')\n",
    "    return max_pool \n",
    "\n",
    "\"\"\"\n",
    "DON'T MODIFY ANYTHING IN THIS CELL THAT IS BELOW THIS LINE\n",
    "\"\"\"\n",
    "tests.test_con_pool(conv2d_maxpool)"
   ]
  },
  {
   "cell_type": "markdown",
   "metadata": {},
   "source": [
    "### Flatten Layer\n",
    "Implement the `flatten` function to change the dimension of `x_tensor` from a 4-D tensor to a 2-D tensor.  The output should be the shape (*Batch Size*, *Flattened Image Size*). Shortcut option: you can use classes from the [TensorFlow Layers](https://www.tensorflow.org/api_docs/python/tf/layers) or [TensorFlow Layers (contrib)](https://www.tensorflow.org/api_guides/python/contrib.layers) packages for this layer. For more of a challenge, only use other TensorFlow packages."
   ]
  },
  {
   "cell_type": "code",
   "execution_count": 10,
   "metadata": {},
   "outputs": [
    {
     "name": "stdout",
     "output_type": "stream",
     "text": [
      "Tests Passed\n"
     ]
    }
   ],
   "source": [
    "def flatten(x_tensor):\n",
    "    \"\"\"\n",
    "    Flatten x_tensor to (Batch Size, Flattened Image Size)\n",
    "    : x_tensor: A tensor of size (Batch Size, ...), where ... are the image dimensions.\n",
    "    : return: A tensor of size (Batch Size, Flattened Image Size).\n",
    "    \"\"\"\n",
    "    batch, height, width, channels = x_tensor.get_shape().as_list()\n",
    "    batch_size_tensor = tf.shape(x_tensor)[0] # to allow dynamic shape for batch processing\n",
    "    x_tensor_flat = tf.reshape(x_tensor,[batch_size_tensor, height*width*channels])\n",
    "    return x_tensor_flat\n",
    "\n",
    "\n",
    "\"\"\"\n",
    "DON'T MODIFY ANYTHING IN THIS CELL THAT IS BELOW THIS LINE\n",
    "\"\"\"\n",
    "tests.test_flatten(flatten)"
   ]
  },
  {
   "cell_type": "markdown",
   "metadata": {},
   "source": [
    "### Fully-Connected Layer\n",
    "Implement the `fully_conn` function to apply a fully connected layer to `x_tensor` with the shape (*Batch Size*, *num_outputs*). Shortcut option: you can use classes from the [TensorFlow Layers](https://www.tensorflow.org/api_docs/python/tf/layers) or [TensorFlow Layers (contrib)](https://www.tensorflow.org/api_guides/python/contrib.layers) packages for this layer. For more of a challenge, only use other TensorFlow packages."
   ]
  },
  {
   "cell_type": "code",
   "execution_count": 11,
   "metadata": {},
   "outputs": [
    {
     "name": "stdout",
     "output_type": "stream",
     "text": [
      "Tests Passed\n"
     ]
    }
   ],
   "source": [
    "def fully_conn(x_tensor, num_outputs):\n",
    "    \"\"\"\n",
    "    Apply a fully connected layer to x_tensor using weight and bias\n",
    "    : x_tensor: A 2-D tensor where the first dimension is batch size.\n",
    "    : num_outputs: The number of output that the new tensor should be.\n",
    "    : return: A 2-D tensor where the second dimension is num_outputs.\n",
    "    \"\"\"\n",
    "    batch, image = x_tensor.get_shape().as_list()\n",
    "\n",
    "    W = tf.Variable(tf.truncated_normal([image, num_outputs], stddev=0.1))\n",
    "    B = tf.Variable(tf.zeros([num_outputs]))\n",
    "\n",
    "    conn_layer = tf.matmul(x_tensor, W) + B\n",
    "    conn_layer = tf.nn.relu(conn_layer)\n",
    "    return conn_layer\n",
    "\n",
    "\n",
    "\"\"\"\n",
    "DON'T MODIFY ANYTHING IN THIS CELL THAT IS BELOW THIS LINE\n",
    "\"\"\"\n",
    "tests.test_fully_conn(fully_conn)"
   ]
  },
  {
   "cell_type": "markdown",
   "metadata": {},
   "source": [
    "### Output Layer\n",
    "Implement the `output` function to apply a fully connected layer to `x_tensor` with the shape (*Batch Size*, *num_outputs*). Shortcut option: you can use classes from the [TensorFlow Layers](https://www.tensorflow.org/api_docs/python/tf/layers) or [TensorFlow Layers (contrib)](https://www.tensorflow.org/api_guides/python/contrib.layers) packages for this layer. For more of a challenge, only use other TensorFlow packages.\n",
    "\n",
    "**Note:** Activation, softmax, or cross entropy should **not** be applied to this."
   ]
  },
  {
   "cell_type": "code",
   "execution_count": 12,
   "metadata": {},
   "outputs": [
    {
     "name": "stdout",
     "output_type": "stream",
     "text": [
      "Tests Passed\n"
     ]
    }
   ],
   "source": [
    "def output(x_tensor, num_outputs):\n",
    "    \"\"\"\n",
    "    Apply a output layer to x_tensor using weight and bias\n",
    "    : x_tensor: A 2-D tensor where the first dimension is batch size.\n",
    "    : num_outputs: The number of output that the new tensor should be.\n",
    "    : return: A 2-D tensor where the second dimension is num_outputs.\n",
    "    \"\"\"\n",
    "    batch, image = x_tensor.get_shape().as_list()\n",
    "\n",
    "    W = tf.Variable(tf.truncated_normal([image, num_outputs], stddev=0.1)) #TODO: default stdev is 1\n",
    "    B = tf.Variable(tf.zeros([num_outputs]))\n",
    "\n",
    "    out_layer = tf.matmul(x_tensor, W) + B\n",
    "    return out_layer\n",
    "\n",
    "\n",
    "\"\"\"\n",
    "DON'T MODIFY ANYTHING IN THIS CELL THAT IS BELOW THIS LINE\n",
    "\"\"\"\n",
    "tests.test_output(output)"
   ]
  },
  {
   "cell_type": "markdown",
   "metadata": {},
   "source": [
    "### Create Convolutional Model\n",
    "Implement the function `conv_net` to create a convolutional neural network model. The function takes in a batch of images, `x`, and outputs logits.  Use the layers you created above to create this model:\n",
    "\n",
    "* Apply 1, 2, or 3 Convolution and Max Pool layers\n",
    "* Apply a Flatten Layer\n",
    "* Apply 1, 2, or 3 Fully Connected Layers\n",
    "* Apply an Output Layer\n",
    "* Return the output\n",
    "* Apply [TensorFlow's Dropout](https://www.tensorflow.org/api_docs/python/tf/nn/dropout) to one or more layers in the model using `keep_prob`. "
   ]
  },
  {
   "cell_type": "code",
   "execution_count": 46,
   "metadata": {},
   "outputs": [
    {
     "name": "stdout",
     "output_type": "stream",
     "text": [
      "Neural Network Built!\n"
     ]
    }
   ],
   "source": [
    "def conv_net(x, keep_prob):\n",
    "    \"\"\"\n",
    "    Create a convolutional neural network model\n",
    "    : x: Placeholder tensor that holds image data.\n",
    "    : keep_prob: Placeholder tensor that hold dropout keep probability.\n",
    "    : return: Tensor that represents logits\n",
    "    \"\"\"\n",
    "\n",
    "    # some parameters of the network\n",
    "    conv_num_outputs_1 = 8\n",
    "    conv_num_outputs_2 = 32\n",
    "    conv_num_outputs_3 = 32\n",
    "    full_num_outputs = 128\n",
    "    out_num_outputs = 10\n",
    "\n",
    "    # TODO: Apply 1, 2, or 3 Convolution and Max Pool layers\n",
    "    #    Play around with different number of outputs, kernel size and stride\n",
    "    # Function Definition from Above:\n",
    "    #    conv2d_maxpool(x_tensor, conv_num_outputs, conv_ksize, conv_strides, pool_ksize, pool_strides)\n",
    "    conv_layer = conv2d_maxpool(x, conv_num_outputs_1, [3,3], [1,1], [2,2], [1,1])\n",
    "    conv_layer = conv2d_maxpool(conv_layer, conv_num_outputs_2, [5,5], [1,1], [2,2], [1,1])\n",
    "    conv_layer = conv2d_maxpool(conv_layer, conv_num_outputs_3, [5,5], [1,1], [2,2], [1,1])\n",
    "\n",
    "    # TODO: Apply a Flatten Layer\n",
    "    # Function Definition from Above:\n",
    "    #   flatten(x_tensor)\n",
    "    flat_layer = flatten(conv_layer)\n",
    "\n",
    "    # TODO: Apply 1, 2, or 3 Fully Connected Layers\n",
    "    #    Play around with different number of outputs\n",
    "    # Function Definition from Above:\n",
    "    #   fully_conn(x_tensor, num_outputs) \n",
    "    full_layer = fully_conn(flat_layer, full_num_outputs)\n",
    "#    full_layer = fully_conn(full_layer, full_num_outputs)    \n",
    "    drop_layer = tf.nn.dropout(full_layer, keep_prob=keep_prob)\n",
    "\n",
    "    \n",
    "    # TODO: Apply an Output Layer\n",
    "    #    Set this to the number of classes\n",
    "    # Function Definition from Above:\n",
    "    #   output(x_tensor, num_outputs)\n",
    "    out_layer = output(drop_layer, out_num_outputs)\n",
    "    \n",
    "    # TODO: return output\n",
    "    return out_layer\n",
    "\n",
    "\n",
    "\"\"\"\n",
    "DON'T MODIFY ANYTHING IN THIS CELL THAT IS BELOW THIS LINE\n",
    "\"\"\"\n",
    "\n",
    "##############################\n",
    "## Build the Neural Network ##\n",
    "##############################\n",
    "\n",
    "# Remove previous weights, bias, inputs, etc..\n",
    "tf.reset_default_graph()\n",
    "\n",
    "# Inputs\n",
    "x = neural_net_image_input((32, 32, 3))\n",
    "y = neural_net_label_input(10)\n",
    "keep_prob = neural_net_keep_prob_input()\n",
    "\n",
    "# Model\n",
    "logits = conv_net(x, keep_prob)\n",
    "\n",
    "# Name logits Tensor, so that is can be loaded from disk after training\n",
    "logits = tf.identity(logits, name='logits')\n",
    "\n",
    "# Loss and Optimizer\n",
    "cost = tf.reduce_mean(tf.nn.softmax_cross_entropy_with_logits(logits=logits, labels=y))\n",
    "optimizer = tf.train.AdamOptimizer().minimize(cost)\n",
    "\n",
    "# Accuracy\n",
    "correct_pred = tf.equal(tf.argmax(logits, 1), tf.argmax(y, 1))\n",
    "accuracy = tf.reduce_mean(tf.cast(correct_pred, tf.float32), name='accuracy')\n",
    "\n",
    "tests.test_conv_net(conv_net)"
   ]
  },
  {
   "cell_type": "markdown",
   "metadata": {},
   "source": [
    "## Train the Neural Network\n",
    "### Single Optimization\n",
    "Implement the function `train_neural_network` to do a single optimization.  The optimization should use `optimizer` to optimize in `session` with a `feed_dict` of the following:\n",
    "* `x` for image input\n",
    "* `y` for labels\n",
    "* `keep_prob` for keep probability for dropout\n",
    "\n",
    "This function will be called for each batch, so `tf.global_variables_initializer()` has already been called.\n",
    "\n",
    "Note: Nothing needs to be returned. This function is only optimizing the neural network."
   ]
  },
  {
   "cell_type": "code",
   "execution_count": 14,
   "metadata": {},
   "outputs": [
    {
     "name": "stdout",
     "output_type": "stream",
     "text": [
      "Tests Passed\n"
     ]
    }
   ],
   "source": [
    "import numpy as np\n",
    "\n",
    "def train_neural_network(session, optimizer, keep_probability, feature_batch, label_batch):\n",
    "    \"\"\"\n",
    "    Optimize the session on a batch of images and labels\n",
    "    : session: Current TensorFlow session\n",
    "    : optimizer: TensorFlow optimizer function\n",
    "    : keep_probability: keep probability\n",
    "    : feature_batch: Batch of Numpy image data\n",
    "    : label_batch: Batch of Numpy label data\n",
    "    \"\"\"\n",
    "    batch_nb = np.shape(feature_batch)[0]\n",
    "    if np.shape(feature_batch)[0]!=np.shape(label_batch)[0]:\n",
    "        raise \"Mismatch of number of images and number of labels\"\n",
    "    \n",
    "    feed_dict = {x : feature_batch, y : label_batch, keep_prob: keep_probability}\n",
    "    session.run(optimizer, feed_dict=feed_dict)\n",
    "    pass\n",
    "\n",
    "\n",
    "\"\"\"\n",
    "DON'T MODIFY ANYTHING IN THIS CELL THAT IS BELOW THIS LINE\n",
    "\"\"\"\n",
    "tests.test_train_nn(train_neural_network)"
   ]
  },
  {
   "cell_type": "markdown",
   "metadata": {},
   "source": [
    "### Show Stats\n",
    "Implement the function `print_stats` to print loss and validation accuracy.  Use the global variables `valid_features` and `valid_labels` to calculate validation accuracy.  Use a keep probability of `1.0` to calculate the loss and validation accuracy."
   ]
  },
  {
   "cell_type": "code",
   "execution_count": 15,
   "metadata": {},
   "outputs": [],
   "source": [
    "def print_stats(session, feature_batch, label_batch, cost, accuracy):\n",
    "    \"\"\"\n",
    "    Print information about loss and validation accuracy\n",
    "    : session: Current TensorFlow session\n",
    "    : feature_batch: Batch of Numpy image data\n",
    "    : label_batch: Batch of Numpy label data\n",
    "    : cost: TensorFlow cost function\n",
    "    : accuracy: TensorFlow accuracy function\n",
    "    \"\"\"\n",
    "\n",
    "    accuracy_train, cost_train = session.run([accuracy, cost], \n",
    "                                             feed_dict={x : feature_batch, y : label_batch, keep_prob: 1.})\n",
    "\n",
    "    accuracy_val, cost_val = session.run([accuracy, cost],\n",
    "                                             feed_dict={x : valid_features, y : valid_labels, keep_prob: 1.})\n",
    "\n",
    "    print('Train Loss:', \"%.4f\" % cost_train,'Train Accuracy: ',\"%2.1f\" % (accuracy_train*100),'%')\n",
    "    print('Validation Loss:', \"%.4f\" % cost_val,'Validation Accuracy: ',\"%2.1f\" % (accuracy_val*100),'%')\n",
    "    pass"
   ]
  },
  {
   "cell_type": "markdown",
   "metadata": {},
   "source": [
    "### Hyperparameters\n",
    "Tune the following parameters:\n",
    "* Set `epochs` to the number of iterations until the network stops learning or start overfitting\n",
    "* Set `batch_size` to the highest number that your machine has memory for.  Most people set them to common sizes of memory:\n",
    " * 64\n",
    " * 128\n",
    " * 256\n",
    " * ...\n",
    "* Set `keep_probability` to the probability of keeping a node using dropout"
   ]
  },
  {
   "cell_type": "code",
   "execution_count": 16,
   "metadata": {
    "collapsed": true
   },
   "outputs": [],
   "source": [
    "# TODO: Tune Parameters\n",
    "epochs = 15\n",
    "batch_size = 256\n",
    "keep_probability = 0.5"
   ]
  },
  {
   "cell_type": "markdown",
   "metadata": {},
   "source": [
    "### Train on a Single CIFAR-10 Batch\n",
    "Instead of training the neural network on all the CIFAR-10 batches of data, let's use a single batch. This should save time while you iterate on the model to get a better accuracy.  Once the final validation accuracy is 50% or greater, run the model on all the data in the next section."
   ]
  },
  {
   "cell_type": "code",
   "execution_count": 37,
   "metadata": {
    "scrolled": true
   },
   "outputs": [
    {
     "name": "stdout",
     "output_type": "stream",
     "text": [
      "Checking the Training on a Single Batch...\n",
      "Epoch  1, CIFAR-10 Batch 1:  Train Loss: 1.9445 Train Accuracy:  30.0 %\n",
      "Validation Loss: 1.8443 Validation Accuracy:  34.7 %\n",
      "Epoch  2, CIFAR-10 Batch 1:  Train Loss: 1.6286 Train Accuracy:  57.5 %\n",
      "Validation Loss: 1.6520 Validation Accuracy:  41.2 %\n",
      "Epoch  3, CIFAR-10 Batch 1:  Train Loss: 1.3260 Train Accuracy:  60.0 %\n",
      "Validation Loss: 1.5130 Validation Accuracy:  45.3 %\n",
      "Epoch  4, CIFAR-10 Batch 1:  Train Loss: 1.0913 Train Accuracy:  67.5 %\n",
      "Validation Loss: 1.4423 Validation Accuracy:  47.4 %\n",
      "Epoch  5, CIFAR-10 Batch 1:  Train Loss: 0.9951 Train Accuracy:  75.0 %\n",
      "Validation Loss: 1.4076 Validation Accuracy:  50.0 %\n",
      "Epoch  6, CIFAR-10 Batch 1:  Train Loss: 0.8830 Train Accuracy:  77.5 %\n",
      "Validation Loss: 1.4404 Validation Accuracy:  49.2 %\n",
      "Epoch  7, CIFAR-10 Batch 1:  Train Loss: 0.6953 Train Accuracy:  80.0 %\n",
      "Validation Loss: 1.3426 Validation Accuracy:  52.7 %\n",
      "Epoch  8, CIFAR-10 Batch 1:  Train Loss: 0.5657 Train Accuracy:  82.5 %\n",
      "Validation Loss: 1.3135 Validation Accuracy:  52.9 %\n",
      "Epoch  9, CIFAR-10 Batch 1:  Train Loss: 0.4709 Train Accuracy:  87.5 %\n",
      "Validation Loss: 1.2678 Validation Accuracy:  54.6 %\n",
      "Epoch 10, CIFAR-10 Batch 1:  Train Loss: 0.4114 Train Accuracy:  90.0 %\n",
      "Validation Loss: 1.2383 Validation Accuracy:  55.4 %\n",
      "Epoch 11, CIFAR-10 Batch 1:  Train Loss: 0.3420 Train Accuracy:  90.0 %\n",
      "Validation Loss: 1.2424 Validation Accuracy:  56.4 %\n",
      "Epoch 12, CIFAR-10 Batch 1:  Train Loss: 0.2465 Train Accuracy:  97.5 %\n",
      "Validation Loss: 1.2415 Validation Accuracy:  56.5 %\n",
      "Epoch 13, CIFAR-10 Batch 1:  Train Loss: 0.2047 Train Accuracy:  97.5 %\n",
      "Validation Loss: 1.2676 Validation Accuracy:  55.5 %\n",
      "Epoch 14, CIFAR-10 Batch 1:  Train Loss: 0.1950 Train Accuracy:  97.5 %\n",
      "Validation Loss: 1.2616 Validation Accuracy:  56.5 %\n",
      "Epoch 15, CIFAR-10 Batch 1:  Train Loss: 0.1919 Train Accuracy:  97.5 %\n",
      "Validation Loss: 1.3558 Validation Accuracy:  54.0 %\n"
     ]
    }
   ],
   "source": [
    "\"\"\"\n",
    "DON'T MODIFY ANYTHING IN THIS CELL\n",
    "\"\"\"\n",
    "print('Checking the Training on a Single Batch...')\n",
    "with tf.Session() as sess:\n",
    "    # Initializing the variables\n",
    "    sess.run(tf.global_variables_initializer())\n",
    "    \n",
    "    # Training cycle\n",
    "    for epoch in range(epochs):\n",
    "        batch_i = 1\n",
    "        for batch_features, batch_labels in helper.load_preprocess_training_batch(batch_i, batch_size):\n",
    "            train_neural_network(sess, optimizer, keep_probability, batch_features, batch_labels)\n",
    "        print('Epoch {:>2}, CIFAR-10 Batch {}:  '.format(epoch + 1, batch_i), end='')\n",
    "        print_stats(sess, batch_features, batch_labels, cost, accuracy)"
   ]
  },
  {
   "cell_type": "markdown",
   "metadata": {},
   "source": [
    "### Fully Train the Model\n",
    "Now that you got a good accuracy with a single CIFAR-10 batch, try it with all five batches."
   ]
  },
  {
   "cell_type": "code",
   "execution_count": 39,
   "metadata": {
    "scrolled": false
   },
   "outputs": [
    {
     "name": "stdout",
     "output_type": "stream",
     "text": [
      "Training...\n",
      "Epoch  1, CIFAR-10 Batch 1:  Train Loss: 2.1659 Train Accuracy:  25.0 %\n",
      "Validation Loss: 2.0441 Validation Accuracy:  27.4 %\n",
      "Epoch  1, CIFAR-10 Batch 2:  Train Loss: 1.8680 Train Accuracy:  37.5 %\n",
      "Validation Loss: 1.8294 Validation Accuracy:  35.4 %\n",
      "Epoch  1, CIFAR-10 Batch 3:  Train Loss: 1.4999 Train Accuracy:  42.5 %\n",
      "Validation Loss: 1.6953 Validation Accuracy:  39.8 %\n",
      "Epoch  1, CIFAR-10 Batch 4:  Train Loss: 1.5924 Train Accuracy:  42.5 %\n",
      "Validation Loss: 1.6209 Validation Accuracy:  42.5 %\n",
      "Epoch  1, CIFAR-10 Batch 5:  Train Loss: 1.5614 Train Accuracy:  50.0 %\n",
      "Validation Loss: 1.5470 Validation Accuracy:  45.2 %\n",
      "Epoch  2, CIFAR-10 Batch 1:  Train Loss: 1.5779 Train Accuracy:  35.0 %\n",
      "Validation Loss: 1.4911 Validation Accuracy:  46.5 %\n",
      "Epoch  2, CIFAR-10 Batch 2:  Train Loss: 1.3266 Train Accuracy:  57.5 %\n",
      "Validation Loss: 1.4332 Validation Accuracy:  49.3 %\n",
      "Epoch  2, CIFAR-10 Batch 3:  Train Loss: 1.1417 Train Accuracy:  55.0 %\n",
      "Validation Loss: 1.4559 Validation Accuracy:  45.7 %\n",
      "Epoch  2, CIFAR-10 Batch 4:  Train Loss: 1.2037 Train Accuracy:  62.5 %\n",
      "Validation Loss: 1.3585 Validation Accuracy:  52.3 %\n",
      "Epoch  2, CIFAR-10 Batch 5:  Train Loss: 1.2304 Train Accuracy:  62.5 %\n",
      "Validation Loss: 1.3160 Validation Accuracy:  53.2 %\n",
      "Epoch  3, CIFAR-10 Batch 1:  Train Loss: 1.2410 Train Accuracy:  52.5 %\n",
      "Validation Loss: 1.3052 Validation Accuracy:  52.8 %\n",
      "Epoch  3, CIFAR-10 Batch 2:  Train Loss: 1.0979 Train Accuracy:  57.5 %\n",
      "Validation Loss: 1.2572 Validation Accuracy:  55.1 %\n",
      "Epoch  3, CIFAR-10 Batch 3:  Train Loss: 0.9239 Train Accuracy:  77.5 %\n",
      "Validation Loss: 1.3023 Validation Accuracy:  55.4 %\n",
      "Epoch  3, CIFAR-10 Batch 4:  Train Loss: 0.9844 Train Accuracy:  77.5 %\n",
      "Validation Loss: 1.2148 Validation Accuracy:  56.8 %\n",
      "Epoch  3, CIFAR-10 Batch 5:  Train Loss: 1.0074 Train Accuracy:  67.5 %\n",
      "Validation Loss: 1.2103 Validation Accuracy:  56.6 %\n",
      "Epoch  4, CIFAR-10 Batch 1:  Train Loss: 1.0045 Train Accuracy:  70.0 %\n",
      "Validation Loss: 1.2437 Validation Accuracy:  55.6 %\n",
      "Epoch  4, CIFAR-10 Batch 2:  Train Loss: 0.9144 Train Accuracy:  67.5 %\n",
      "Validation Loss: 1.1868 Validation Accuracy:  58.3 %\n",
      "Epoch  4, CIFAR-10 Batch 3:  Train Loss: 0.7184 Train Accuracy:  85.0 %\n",
      "Validation Loss: 1.1649 Validation Accuracy:  58.3 %\n",
      "Epoch  4, CIFAR-10 Batch 4:  Train Loss: 0.8323 Train Accuracy:  72.5 %\n",
      "Validation Loss: 1.1542 Validation Accuracy:  59.6 %\n",
      "Epoch  4, CIFAR-10 Batch 5:  Train Loss: 0.8365 Train Accuracy:  72.5 %\n",
      "Validation Loss: 1.1353 Validation Accuracy:  59.2 %\n",
      "Epoch  5, CIFAR-10 Batch 1:  Train Loss: 0.8415 Train Accuracy:  72.5 %\n",
      "Validation Loss: 1.1629 Validation Accuracy:  58.8 %\n",
      "Epoch  5, CIFAR-10 Batch 2:  Train Loss: 0.7021 Train Accuracy:  75.0 %\n",
      "Validation Loss: 1.1409 Validation Accuracy:  59.4 %\n",
      "Epoch  5, CIFAR-10 Batch 3:  Train Loss: 0.6631 Train Accuracy:  80.0 %\n",
      "Validation Loss: 1.1345 Validation Accuracy:  59.8 %\n",
      "Epoch  5, CIFAR-10 Batch 4:  Train Loss: 0.7180 Train Accuracy:  75.0 %\n",
      "Validation Loss: 1.0981 Validation Accuracy:  61.3 %\n",
      "Epoch  5, CIFAR-10 Batch 5:  Train Loss: 0.6683 Train Accuracy:  82.5 %\n",
      "Validation Loss: 1.0849 Validation Accuracy:  61.2 %\n",
      "Epoch  6, CIFAR-10 Batch 1:  Train Loss: 0.7496 Train Accuracy:  75.0 %\n",
      "Validation Loss: 1.1197 Validation Accuracy:  60.4 %\n",
      "Epoch  6, CIFAR-10 Batch 2:  Train Loss: 0.6038 Train Accuracy:  82.5 %\n",
      "Validation Loss: 1.0965 Validation Accuracy:  60.7 %\n",
      "Epoch  6, CIFAR-10 Batch 3:  Train Loss: 0.5121 Train Accuracy:  87.5 %\n",
      "Validation Loss: 1.0914 Validation Accuracy:  61.6 %\n",
      "Epoch  6, CIFAR-10 Batch 4:  Train Loss: 0.5996 Train Accuracy:  82.5 %\n",
      "Validation Loss: 1.0686 Validation Accuracy:  62.2 %\n",
      "Epoch  6, CIFAR-10 Batch 5:  Train Loss: 0.5657 Train Accuracy:  87.5 %\n",
      "Validation Loss: 1.0464 Validation Accuracy:  62.7 %\n",
      "Epoch  7, CIFAR-10 Batch 1:  Train Loss: 0.6309 Train Accuracy:  85.0 %\n",
      "Validation Loss: 1.0842 Validation Accuracy:  61.5 %\n",
      "Epoch  7, CIFAR-10 Batch 2:  Train Loss: 0.4896 Train Accuracy:  87.5 %\n",
      "Validation Loss: 1.0276 Validation Accuracy:  63.9 %\n",
      "Epoch  7, CIFAR-10 Batch 3:  Train Loss: 0.4572 Train Accuracy:  92.5 %\n",
      "Validation Loss: 1.0696 Validation Accuracy:  62.2 %\n",
      "Epoch  7, CIFAR-10 Batch 4:  Train Loss: 0.5386 Train Accuracy:  85.0 %\n",
      "Validation Loss: 1.0782 Validation Accuracy:  62.2 %\n",
      "Epoch  7, CIFAR-10 Batch 5:  Train Loss: 0.4649 Train Accuracy:  97.5 %\n",
      "Validation Loss: 1.0219 Validation Accuracy:  63.3 %\n",
      "Epoch  8, CIFAR-10 Batch 1:  Train Loss: 0.5444 Train Accuracy:  80.0 %\n",
      "Validation Loss: 1.0891 Validation Accuracy:  61.4 %\n",
      "Epoch  8, CIFAR-10 Batch 2:  Train Loss: 0.4371 Train Accuracy:  90.0 %\n",
      "Validation Loss: 1.0473 Validation Accuracy:  63.1 %\n",
      "Epoch  8, CIFAR-10 Batch 3:  Train Loss: 0.3909 Train Accuracy:  97.5 %\n",
      "Validation Loss: 1.0280 Validation Accuracy:  64.2 %\n",
      "Epoch  8, CIFAR-10 Batch 4:  Train Loss: 0.4791 Train Accuracy:  87.5 %\n",
      "Validation Loss: 1.0640 Validation Accuracy:  62.6 %\n",
      "Epoch  8, CIFAR-10 Batch 5:  Train Loss: 0.4638 Train Accuracy:  92.5 %\n",
      "Validation Loss: 1.0208 Validation Accuracy:  63.9 %\n",
      "Epoch  9, CIFAR-10 Batch 1:  Train Loss: 0.4784 Train Accuracy:  87.5 %\n",
      "Validation Loss: 1.0746 Validation Accuracy:  61.9 %\n",
      "Epoch  9, CIFAR-10 Batch 2:  Train Loss: 0.3973 Train Accuracy:  90.0 %\n",
      "Validation Loss: 1.0454 Validation Accuracy:  63.7 %\n",
      "Epoch  9, CIFAR-10 Batch 3:  Train Loss: 0.3459 Train Accuracy:  95.0 %\n",
      "Validation Loss: 1.0148 Validation Accuracy:  64.6 %\n",
      "Epoch  9, CIFAR-10 Batch 4:  Train Loss: 0.3996 Train Accuracy:  87.5 %\n",
      "Validation Loss: 1.0175 Validation Accuracy:  64.4 %\n",
      "Epoch  9, CIFAR-10 Batch 5:  Train Loss: 0.3637 Train Accuracy:  97.5 %\n",
      "Validation Loss: 1.0081 Validation Accuracy:  65.0 %\n",
      "Epoch 10, CIFAR-10 Batch 1:  Train Loss: 0.3875 Train Accuracy:  90.0 %\n",
      "Validation Loss: 1.0365 Validation Accuracy:  63.1 %\n",
      "Epoch 10, CIFAR-10 Batch 2:  Train Loss: 0.3130 Train Accuracy:  92.5 %\n",
      "Validation Loss: 1.0498 Validation Accuracy:  63.9 %\n",
      "Epoch 10, CIFAR-10 Batch 3:  Train Loss: 0.2892 Train Accuracy:  100.0 %\n",
      "Validation Loss: 0.9932 Validation Accuracy:  65.5 %\n",
      "Epoch 10, CIFAR-10 Batch 4:  Train Loss: 0.3503 Train Accuracy:  90.0 %\n",
      "Validation Loss: 1.0083 Validation Accuracy:  65.0 %\n",
      "Epoch 10, CIFAR-10 Batch 5:  Train Loss: 0.3164 Train Accuracy:  97.5 %\n",
      "Validation Loss: 1.0055 Validation Accuracy:  65.4 %\n",
      "Epoch 11, CIFAR-10 Batch 1:  Train Loss: 0.3464 Train Accuracy:  90.0 %\n",
      "Validation Loss: 1.0457 Validation Accuracy:  63.7 %\n",
      "Epoch 11, CIFAR-10 Batch 2:  Train Loss: 0.2861 Train Accuracy:  97.5 %\n",
      "Validation Loss: 1.0193 Validation Accuracy:  64.8 %\n",
      "Epoch 11, CIFAR-10 Batch 3:  Train Loss: 0.2474 Train Accuracy:  100.0 %\n",
      "Validation Loss: 1.0043 Validation Accuracy:  64.7 %\n",
      "Epoch 11, CIFAR-10 Batch 4:  Train Loss: 0.2869 Train Accuracy:  92.5 %\n",
      "Validation Loss: 0.9997 Validation Accuracy:  65.3 %\n",
      "Epoch 11, CIFAR-10 Batch 5:  Train Loss: 0.2596 Train Accuracy:  97.5 %\n",
      "Validation Loss: 1.0230 Validation Accuracy:  65.5 %\n",
      "Epoch 12, CIFAR-10 Batch 1:  Train Loss: 0.3158 Train Accuracy:  95.0 %\n",
      "Validation Loss: 1.0429 Validation Accuracy:  63.3 %\n",
      "Epoch 12, CIFAR-10 Batch 2:  Train Loss: 0.2518 Train Accuracy:  100.0 %\n",
      "Validation Loss: 1.0295 Validation Accuracy:  64.7 %\n",
      "Epoch 12, CIFAR-10 Batch 3:  Train Loss: 0.2061 Train Accuracy:  97.5 %\n",
      "Validation Loss: 1.0179 Validation Accuracy:  65.6 %\n",
      "Epoch 12, CIFAR-10 Batch 4:  Train Loss: 0.2950 Train Accuracy:  95.0 %\n",
      "Validation Loss: 1.0096 Validation Accuracy:  65.2 %\n",
      "Epoch 12, CIFAR-10 Batch 5:  Train Loss: 0.2053 Train Accuracy:  100.0 %\n",
      "Validation Loss: 1.0043 Validation Accuracy:  65.3 %\n",
      "Epoch 13, CIFAR-10 Batch 1:  Train Loss: 0.2939 Train Accuracy:  92.5 %\n",
      "Validation Loss: 1.0377 Validation Accuracy:  64.7 %\n",
      "Epoch 13, CIFAR-10 Batch 2:  Train Loss: 0.2413 Train Accuracy:  97.5 %\n",
      "Validation Loss: 1.0248 Validation Accuracy:  64.1 %\n",
      "Epoch 13, CIFAR-10 Batch 3:  Train Loss: 0.1716 Train Accuracy:  95.0 %\n",
      "Validation Loss: 1.0374 Validation Accuracy:  65.5 %\n",
      "Epoch 13, CIFAR-10 Batch 4:  Train Loss: 0.2415 Train Accuracy:  100.0 %\n",
      "Validation Loss: 1.0247 Validation Accuracy:  64.6 %\n",
      "Epoch 13, CIFAR-10 Batch 5:  Train Loss: 0.1803 Train Accuracy:  100.0 %\n",
      "Validation Loss: 1.0407 Validation Accuracy:  65.3 %\n",
      "Epoch 14, CIFAR-10 Batch 1:  Train Loss: 0.2376 Train Accuracy:  95.0 %\n",
      "Validation Loss: 1.0347 Validation Accuracy:  65.0 %\n"
     ]
    },
    {
     "name": "stdout",
     "output_type": "stream",
     "text": [
      "Epoch 14, CIFAR-10 Batch 2:  Train Loss: 0.2657 Train Accuracy:  95.0 %\n",
      "Validation Loss: 1.0519 Validation Accuracy:  63.8 %\n",
      "Epoch 14, CIFAR-10 Batch 3:  Train Loss: 0.1519 Train Accuracy:  100.0 %\n",
      "Validation Loss: 1.0613 Validation Accuracy:  64.4 %\n",
      "Epoch 14, CIFAR-10 Batch 4:  Train Loss: 0.2067 Train Accuracy:  97.5 %\n",
      "Validation Loss: 1.0284 Validation Accuracy:  64.9 %\n",
      "Epoch 14, CIFAR-10 Batch 5:  Train Loss: 0.1437 Train Accuracy:  100.0 %\n",
      "Validation Loss: 1.0473 Validation Accuracy:  66.0 %\n",
      "Epoch 15, CIFAR-10 Batch 1:  Train Loss: 0.1951 Train Accuracy:  95.0 %\n",
      "Validation Loss: 1.0291 Validation Accuracy:  65.6 %\n",
      "Epoch 15, CIFAR-10 Batch 2:  Train Loss: 0.2204 Train Accuracy:  97.5 %\n",
      "Validation Loss: 1.0678 Validation Accuracy:  64.0 %\n",
      "Epoch 15, CIFAR-10 Batch 3:  Train Loss: 0.1256 Train Accuracy:  97.5 %\n",
      "Validation Loss: 1.0668 Validation Accuracy:  64.6 %\n",
      "Epoch 15, CIFAR-10 Batch 4:  Train Loss: 0.1709 Train Accuracy:  100.0 %\n",
      "Validation Loss: 1.0316 Validation Accuracy:  65.6 %\n",
      "Epoch 15, CIFAR-10 Batch 5:  Train Loss: 0.1364 Train Accuracy:  100.0 %\n",
      "Validation Loss: 1.0824 Validation Accuracy:  65.4 %\n"
     ]
    }
   ],
   "source": [
    "\"\"\"\n",
    "DON'T MODIFY ANYTHING IN THIS CELL\n",
    "\"\"\"\n",
    "save_model_path = './image_classification'\n",
    "\n",
    "print('Training...')\n",
    "with tf.Session() as sess:\n",
    "    # Initializing the variables\n",
    "    sess.run(tf.global_variables_initializer())\n",
    "    \n",
    "    # Training cycle\n",
    "    for epoch in range(epochs):\n",
    "        # Loop over all batches\n",
    "        n_batches = 5\n",
    "        for batch_i in range(1, n_batches + 1):\n",
    "            for batch_features, batch_labels in helper.load_preprocess_training_batch(batch_i, batch_size):\n",
    "                train_neural_network(sess, optimizer, keep_probability, batch_features, batch_labels)\n",
    "            print('Epoch {:>2}, CIFAR-10 Batch {}:  '.format(epoch + 1, batch_i), end='')\n",
    "            print_stats(sess, batch_features, batch_labels, cost, accuracy)\n",
    "            \n",
    "    # Save Model\n",
    "    saver = tf.train.Saver()\n",
    "    save_path = saver.save(sess, save_model_path)"
   ]
  },
  {
   "cell_type": "markdown",
   "metadata": {},
   "source": [
    "# Checkpoint\n",
    "The model has been saved to disk.\n",
    "## Test Model\n",
    "Test your model against the test dataset.  This will be your final accuracy. You should have an accuracy greater than 50%. If you don't, keep tweaking the model architecture and parameters."
   ]
  },
  {
   "cell_type": "code",
   "execution_count": 40,
   "metadata": {},
   "outputs": [
    {
     "name": "stdout",
     "output_type": "stream",
     "text": [
      "Testing Accuracy: 0.6568359375\n",
      "\n"
     ]
    },
    {
     "data": {
      "image/png": "[encoded data removed]",
      "text/plain": [
       "<matplotlib.figure.Figure at 0x11b2fd2b0>"
      ]
     },
     "metadata": {
      "image/png": {
       "height": 319,
       "width": 355
      }
     },
     "output_type": "display_data"
    }
   ],
   "source": [
    "\"\"\"\n",
    "DON'T MODIFY ANYTHING IN THIS CELL\n",
    "\"\"\"\n",
    "%matplotlib inline\n",
    "%config InlineBackend.figure_format = 'retina'\n",
    "\n",
    "import tensorflow as tf\n",
    "import pickle\n",
    "import helper\n",
    "import random\n",
    "\n",
    "# Set batch size if not already set\n",
    "try:\n",
    "    if batch_size:\n",
    "        pass\n",
    "except NameError:\n",
    "    batch_size = 64\n",
    "\n",
    "save_model_path = './image_classification'\n",
    "n_samples = 4\n",
    "top_n_predictions = 3\n",
    "\n",
    "def test_model():\n",
    "    \"\"\"\n",
    "    Test the saved model against the test dataset\n",
    "    \"\"\"\n",
    "\n",
    "    test_features, test_labels = pickle.load(open('preprocess_training.p', mode='rb'))\n",
    "    loaded_graph = tf.Graph()\n",
    "\n",
    "    with tf.Session(graph=loaded_graph) as sess:\n",
    "        # Load model\n",
    "        loader = tf.train.import_meta_graph(save_model_path + '.meta')\n",
    "        loader.restore(sess, save_model_path)\n",
    "\n",
    "        # Get Tensors from loaded model\n",
    "        loaded_x = loaded_graph.get_tensor_by_name('x:0')\n",
    "        loaded_y = loaded_graph.get_tensor_by_name('y:0')\n",
    "        loaded_keep_prob = loaded_graph.get_tensor_by_name('keep_prob:0')\n",
    "        loaded_logits = loaded_graph.get_tensor_by_name('logits:0')\n",
    "        loaded_acc = loaded_graph.get_tensor_by_name('accuracy:0')\n",
    "        \n",
    "        # Get accuracy in batches for memory limitations\n",
    "        test_batch_acc_total = 0\n",
    "        test_batch_count = 0\n",
    "        \n",
    "        for train_feature_batch, train_label_batch in helper.batch_features_labels(test_features, test_labels, batch_size):\n",
    "            test_batch_acc_total += sess.run(\n",
    "                loaded_acc,\n",
    "                feed_dict={loaded_x: train_feature_batch, loaded_y: train_label_batch, loaded_keep_prob: 1.0})\n",
    "            test_batch_count += 1\n",
    "\n",
    "        print('Testing Accuracy: {}\\n'.format(test_batch_acc_total/test_batch_count))\n",
    "\n",
    "        # Print Random Samples\n",
    "        random_test_features, random_test_labels = tuple(zip(*random.sample(list(zip(test_features, test_labels)), n_samples)))\n",
    "        random_test_predictions = sess.run(\n",
    "            tf.nn.top_k(tf.nn.softmax(loaded_logits), top_n_predictions),\n",
    "            feed_dict={loaded_x: random_test_features, loaded_y: random_test_labels, loaded_keep_prob: 1.0})\n",
    "        helper.display_image_predictions(random_test_features, random_test_labels, random_test_predictions)\n",
    "\n",
    "\n",
    "test_model()"
   ]
  },
  {
   "cell_type": "markdown",
   "metadata": {},
   "source": [
    "## Why 50-80% Accuracy?\n",
    "You might be wondering why you can't get an accuracy any higher. First things first, 50% isn't bad for a simple CNN.  Pure guessing would get you 10% accuracy. That's because there are many more techniques that can be applied to your model and we recemmond that once you are done with this project, you explore!\n",
    "\n",
    "## Submitting This Project\n",
    "When submitting this project, make sure to run all the cells before saving the notebook.  Save the notebook file as \"image_classification.ipynb\" and save it as a HTML file under \"File\" -> \"Download as\".  Include the \"helper.py\" and \"problem_unittests.py\" files in your submission."
   ]
  }
 ],
 "metadata": {
  "kernelspec": {
   "display_name": "Python 3",
   "language": "python",
   "name": "python3"
  },
  "language_info": {
   "codemirror_mode": {
    "name": "ipython",
    "version": 3
   },
   "file_extension": ".py",
   "mimetype": "text/x-python",
   "name": "python",
   "nbconvert_exporter": "python",
   "pygments_lexer": "ipython3",
   "version": "3.6.1"
  }
 },
 "nbformat": 4,
 "nbformat_minor": 1
}
